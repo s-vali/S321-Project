{
  "metadata": {
    "kernelspec": {
      "language": "python",
      "display_name": "Python 3",
      "name": "python3"
    },
    "language_info": {
      "pygments_lexer": "ipython3",
      "nbconvert_exporter": "python",
      "version": "3.6.4",
      "file_extension": ".py",
      "codemirror_mode": {
        "name": "ipython",
        "version": 3
      },
      "name": "python",
      "mimetype": "text/x-python"
    },
    "colab": {
      "name": "Android Malware Analysis _ TEEP Internship",
      "provenance": [],
      "include_colab_link": true
    }
  },
  "nbformat_minor": 0,
  "nbformat": 4,
  "cells": [
    {
      "cell_type": "markdown",
      "metadata": {
        "id": "view-in-github",
        "colab_type": "text"
      },
      "source": [
        "<a href=\"https://colab.research.google.com/github/s-vali/S321-Project/blob/main/Android_Malware_Analysis___TEEP_Internship.ipynb\" target=\"_parent\"><img src=\"https://colab.research.google.com/assets/colab-badge.svg\" alt=\"Open In Colab\"/></a>"
      ]
    },
    {
      "source": [
        "# IMPORTANT: RUN THIS CELL IN ORDER TO IMPORT YOUR KAGGLE DATA SOURCES,\n",
        "# THEN FEEL FREE TO DELETE THIS CELL.\n",
        "# NOTE: THIS NOTEBOOK ENVIRONMENT DIFFERS FROM KAGGLE'S PYTHON\n",
        "# ENVIRONMENT SO THERE MAY BE MISSING LIBRARIES USED BY YOUR\n",
        "# NOTEBOOK.\n",
        "import kagglehub\n",
        "xwolf12_datasetandroidpermissions_path = kagglehub.dataset_download('xwolf12/datasetandroidpermissions')\n",
        "xwolf12_network_traffic_android_malware_path = kagglehub.dataset_download('xwolf12/network-traffic-android-malware')\n",
        "\n",
        "print('Data source import complete.')\n"
      ],
      "metadata": {
        "id": "0c2-oiVppmRx"
      },
      "cell_type": "code",
      "outputs": [],
      "execution_count": null
    },
    {
      "cell_type": "markdown",
      "source": [
        "# Android Malware Analysis"
      ],
      "metadata": {
        "id": "K9gi2aPnpmRx"
      }
    },
    {
      "cell_type": "markdown",
      "source": [
        "### Packages"
      ],
      "metadata": {
        "_uuid": "d629ff2d2480ee46fbb7e2d37f6b5fab8052498a",
        "_cell_guid": "79c7e3d0-c299-4dcb-8224-4455121ee9b0",
        "id": "UegsmlTqpmRy"
      }
    },
    {
      "cell_type": "code",
      "source": [
        "from sklearn.naive_bayes import GaussianNB, BernoulliNB\n",
        "from sklearn.metrics import accuracy_score, classification_report\n",
        "from sklearn.ensemble import BaggingClassifier\n",
        "from sklearn.neighbors import KNeighborsClassifier\n",
        "from sklearn.linear_model import SGDClassifier\n",
        "from sklearn.model_selection import train_test_split\n",
        "from sklearn.metrics import cohen_kappa_score\n",
        "from sklearn.metrics import confusion_matrix\n",
        "from sklearn.ensemble import RandomForestClassifier\n",
        "\n",
        "from sklearn import preprocessing\n",
        "import torch\n",
        "from sklearn import svm\n",
        "from sklearn import tree\n",
        "import pandas as pd\n",
        "from sklearn.externals import joblib\n",
        "import pickle\n",
        "import numpy as np\n",
        "import seaborn as sns"
      ],
      "metadata": {
        "execution": {
          "iopub.status.busy": "2023-09-25T07:23:42.702307Z",
          "iopub.execute_input": "2023-09-25T07:23:42.702779Z",
          "iopub.status.idle": "2023-09-25T07:23:42.713649Z",
          "shell.execute_reply.started": "2023-09-25T07:23:42.702715Z",
          "shell.execute_reply": "2023-09-25T07:23:42.712939Z"
        },
        "trusted": true,
        "id": "sJmI11SBpmRy"
      },
      "execution_count": null,
      "outputs": []
    },
    {
      "cell_type": "markdown",
      "source": [
        "### Exploratory"
      ],
      "metadata": {
        "id": "R9zMG0tepmRy"
      }
    },
    {
      "cell_type": "code",
      "source": [
        "import pandas as pd\n",
        "df = pd.read_csv(\"../input/datasetandroidpermissions/train.csv\", sep=\";\")"
      ],
      "metadata": {
        "execution": {
          "iopub.status.busy": "2023-09-25T07:23:42.715996Z",
          "iopub.execute_input": "2023-09-25T07:23:42.71656Z",
          "iopub.status.idle": "2023-09-25T07:23:42.776345Z",
          "shell.execute_reply.started": "2023-09-25T07:23:42.71646Z",
          "shell.execute_reply": "2023-09-25T07:23:42.775569Z"
        },
        "trusted": true,
        "id": "turS5BHTpmRy"
      },
      "execution_count": null,
      "outputs": []
    },
    {
      "cell_type": "code",
      "source": [
        "df = df.astype(\"int64\")\n",
        "df.type.value_counts()"
      ],
      "metadata": {
        "execution": {
          "iopub.status.busy": "2023-09-25T07:23:42.778815Z",
          "iopub.execute_input": "2023-09-25T07:23:42.77938Z",
          "iopub.status.idle": "2023-09-25T07:23:42.788503Z",
          "shell.execute_reply.started": "2023-09-25T07:23:42.779326Z",
          "shell.execute_reply": "2023-09-25T07:23:42.787541Z"
        },
        "trusted": true,
        "id": "WEVYRyCBpmRy"
      },
      "execution_count": null,
      "outputs": []
    },
    {
      "cell_type": "markdown",
      "source": [
        "Type is the label that represents if an application is a malware or not, as we can see this dataset is balanced."
      ],
      "metadata": {
        "id": "USOX9-7PpmRy"
      }
    },
    {
      "cell_type": "code",
      "source": [
        "df.shape"
      ],
      "metadata": {
        "execution": {
          "iopub.status.busy": "2023-09-25T07:23:42.79059Z",
          "iopub.execute_input": "2023-09-25T07:23:42.790926Z",
          "iopub.status.idle": "2023-09-25T07:23:42.79699Z",
          "shell.execute_reply.started": "2023-09-25T07:23:42.79086Z",
          "shell.execute_reply": "2023-09-25T07:23:42.796094Z"
        },
        "trusted": true,
        "id": "gKNp4YTDpmRy"
      },
      "execution_count": null,
      "outputs": []
    },
    {
      "cell_type": "markdown",
      "source": [
        "*Let's get the top 10 of permissions that are used for our malware samples*"
      ],
      "metadata": {
        "id": "feu19lDapmRy"
      }
    },
    {
      "cell_type": "markdown",
      "source": [
        "*Malicious*"
      ],
      "metadata": {
        "id": "ovkil1WZpmRy"
      }
    },
    {
      "cell_type": "code",
      "source": [
        "pd.Series.sort_values(df[df.type==1].sum(axis=0), ascending=False)[1:11]"
      ],
      "metadata": {
        "execution": {
          "iopub.status.busy": "2023-09-25T07:23:42.799753Z",
          "iopub.execute_input": "2023-09-25T07:23:42.80029Z",
          "iopub.status.idle": "2023-09-25T07:23:42.812061Z",
          "shell.execute_reply.started": "2023-09-25T07:23:42.800239Z",
          "shell.execute_reply": "2023-09-25T07:23:42.811244Z"
        },
        "trusted": true,
        "id": "PMlbq9TFpmRy"
      },
      "execution_count": null,
      "outputs": []
    },
    {
      "cell_type": "markdown",
      "source": [
        "*Benign*"
      ],
      "metadata": {
        "id": "TwjYRJngpmRy"
      }
    },
    {
      "cell_type": "code",
      "source": [
        "pd.Series.sort_values(df[df.type==0].sum(axis=0), ascending=False)[:10]"
      ],
      "metadata": {
        "execution": {
          "iopub.status.busy": "2023-09-25T07:23:42.813664Z",
          "iopub.execute_input": "2023-09-25T07:23:42.814232Z",
          "iopub.status.idle": "2023-09-25T07:23:42.826202Z",
          "shell.execute_reply.started": "2023-09-25T07:23:42.814181Z",
          "shell.execute_reply": "2023-09-25T07:23:42.825413Z"
        },
        "trusted": true,
        "id": "aH5WR4njpmRy"
      },
      "execution_count": null,
      "outputs": []
    },
    {
      "cell_type": "code",
      "source": [
        "import matplotlib.pyplot as plt\n",
        "fig, axs =  plt.subplots(nrows=2, sharex=True)\n",
        "\n",
        "pd.Series.sort_values(df[df.type==0].sum(axis=0), ascending=False)[:10].plot.bar(ax=axs[0])\n",
        "pd.Series.sort_values(df[df.type==1].sum(axis=0), ascending=False)[1:11].plot.bar(ax=axs[1], color=\"red\")"
      ],
      "metadata": {
        "execution": {
          "iopub.status.busy": "2023-09-25T07:23:42.827745Z",
          "iopub.execute_input": "2023-09-25T07:23:42.828642Z",
          "iopub.status.idle": "2023-09-25T07:23:43.339115Z",
          "shell.execute_reply.started": "2023-09-25T07:23:42.828564Z",
          "shell.execute_reply": "2023-09-25T07:23:43.338142Z"
        },
        "trusted": true,
        "id": "6DMerD8LpmRy"
      },
      "execution_count": null,
      "outputs": []
    },
    {
      "cell_type": "markdown",
      "source": [
        "The last outputs allow us to get insights about a difference between the permissions used by the malware and the benign applications."
      ],
      "metadata": {
        "id": "f9dGPxDtpmRy"
      }
    },
    {
      "cell_type": "markdown",
      "source": [
        "### Modeling"
      ],
      "metadata": {
        "id": "N9R-NgbopmRy"
      }
    },
    {
      "cell_type": "code",
      "source": [
        "X_train, X_test, y_train, y_test = train_test_split(df.iloc[:, 1:330], df['type'], test_size=0.20, random_state=42)"
      ],
      "metadata": {
        "execution": {
          "iopub.status.busy": "2023-09-25T07:23:43.340756Z",
          "iopub.execute_input": "2023-09-25T07:23:43.341101Z",
          "iopub.status.idle": "2023-09-25T07:23:43.353407Z",
          "shell.execute_reply.started": "2023-09-25T07:23:43.341035Z",
          "shell.execute_reply": "2023-09-25T07:23:43.352561Z"
        },
        "trusted": true,
        "id": "uzpUPRCMpmRy"
      },
      "execution_count": null,
      "outputs": []
    },
    {
      "cell_type": "markdown",
      "source": [
        "*Naive Bayes algorithm*"
      ],
      "metadata": {
        "id": "aEpYtX0EpmRz"
      }
    },
    {
      "cell_type": "code",
      "source": [
        "# Naive Bayes algorithm\n",
        "gnb = GaussianNB()\n",
        "gnb.fit(X_train, y_train)\n",
        "\n",
        "# pred\n",
        "pred = gnb.predict(X_test)\n",
        "\n",
        "# accuracy\n",
        "accuracy = accuracy_score(pred, y_test)\n",
        "print(\"naive_bayes\")\n",
        "print(accuracy)\n",
        "print(classification_report(pred, y_test, labels=None))"
      ],
      "metadata": {
        "execution": {
          "iopub.status.busy": "2023-09-25T07:23:43.354729Z",
          "iopub.execute_input": "2023-09-25T07:23:43.355044Z",
          "iopub.status.idle": "2023-09-25T07:23:43.374122Z",
          "shell.execute_reply.started": "2023-09-25T07:23:43.35497Z",
          "shell.execute_reply": "2023-09-25T07:23:43.373351Z"
        },
        "trusted": true,
        "id": "srOix06YpmRz"
      },
      "execution_count": null,
      "outputs": []
    },
    {
      "cell_type": "markdown",
      "source": [
        "*kneighbors algorithm*"
      ],
      "metadata": {
        "id": "3Y0To4WwpmRz"
      }
    },
    {
      "cell_type": "code",
      "source": [
        "# kneighbors algorithm\n",
        "\n",
        "for i in range(3,15,3):\n",
        "\n",
        "    neigh = KNeighborsClassifier(n_neighbors=i)\n",
        "    neigh.fit(X_train, y_train)\n",
        "    pred = neigh.predict(X_test)\n",
        "    # accuracy\n",
        "    accuracy = accuracy_score(pred, y_test)\n",
        "    print(\"kneighbors {}\".format(i))\n",
        "    print(accuracy)\n",
        "    print(classification_report(pred, y_test, labels=None))\n",
        "    print(\"\")"
      ],
      "metadata": {
        "execution": {
          "iopub.status.busy": "2023-09-25T07:23:43.37541Z",
          "iopub.execute_input": "2023-09-25T07:23:43.375906Z",
          "iopub.status.idle": "2023-09-25T07:23:43.488266Z",
          "shell.execute_reply.started": "2023-09-25T07:23:43.375851Z",
          "shell.execute_reply": "2023-09-25T07:23:43.486888Z"
        },
        "trusted": true,
        "id": "APsZajCupmRz"
      },
      "execution_count": null,
      "outputs": []
    },
    {
      "cell_type": "markdown",
      "source": [
        "*Decision Tree*"
      ],
      "metadata": {
        "id": "s0e4RcfspmRz"
      }
    },
    {
      "cell_type": "code",
      "source": [
        "clf = tree.DecisionTreeClassifier()\n",
        "clf.fit(X_train, y_train)\n",
        "\n",
        "# Read the csv test file\n",
        "\n",
        "pred = clf.predict(X_test)\n",
        "# accuracy\n",
        "accuracy = accuracy_score(pred, y_test)\n",
        "print(clf)\n",
        "print(accuracy)\n",
        "print(classification_report(pred, y_test, labels=None))"
      ],
      "metadata": {
        "execution": {
          "iopub.status.busy": "2023-09-25T07:23:43.492053Z",
          "iopub.execute_input": "2023-09-25T07:23:43.492327Z",
          "iopub.status.idle": "2023-09-25T07:23:43.510161Z",
          "shell.execute_reply.started": "2023-09-25T07:23:43.492276Z",
          "shell.execute_reply": "2023-09-25T07:23:43.509398Z"
        },
        "trusted": true,
        "id": "PtJgvgI8pmRz"
      },
      "execution_count": null,
      "outputs": []
    },
    {
      "cell_type": "markdown",
      "source": [
        "Through the last results we can see how we trained different classifiers to detect malware using its permissions, but as I said this is only a first approximation, I didn't analyze the hyperparameters and others things to improve the results."
      ],
      "metadata": {
        "id": "VKqwjsYXpmRz"
      }
    },
    {
      "cell_type": "markdown",
      "source": [
        "# Dynamic Analysis"
      ],
      "metadata": {
        "id": "oKsPjI5jpmRz"
      }
    },
    {
      "cell_type": "code",
      "source": [
        "import pandas as pd\n",
        "data = pd.read_csv(\"../input/network-traffic-android-malware/android_traffic.csv\", sep=\";\")\n",
        "data.head()"
      ],
      "metadata": {
        "execution": {
          "iopub.status.busy": "2023-09-25T07:23:43.511881Z",
          "iopub.execute_input": "2023-09-25T07:23:43.512422Z",
          "iopub.status.idle": "2023-09-25T07:23:43.549559Z",
          "shell.execute_reply.started": "2023-09-25T07:23:43.512365Z",
          "shell.execute_reply": "2023-09-25T07:23:43.548742Z"
        },
        "trusted": true,
        "id": "SujdaKklpmRz"
      },
      "execution_count": null,
      "outputs": []
    },
    {
      "cell_type": "code",
      "source": [
        "data.columns"
      ],
      "metadata": {
        "execution": {
          "iopub.status.busy": "2023-09-25T07:23:43.551239Z",
          "iopub.execute_input": "2023-09-25T07:23:43.551685Z",
          "iopub.status.idle": "2023-09-25T07:23:43.557947Z",
          "shell.execute_reply.started": "2023-09-25T07:23:43.5515Z",
          "shell.execute_reply": "2023-09-25T07:23:43.557163Z"
        },
        "trusted": true,
        "id": "s9xcK6nFpmRz"
      },
      "execution_count": null,
      "outputs": []
    },
    {
      "cell_type": "code",
      "source": [
        "data.shape"
      ],
      "metadata": {
        "execution": {
          "iopub.status.busy": "2023-09-25T07:23:43.559274Z",
          "iopub.execute_input": "2023-09-25T07:23:43.55979Z",
          "iopub.status.idle": "2023-09-25T07:23:43.568705Z",
          "shell.execute_reply.started": "2023-09-25T07:23:43.559737Z",
          "shell.execute_reply": "2023-09-25T07:23:43.567955Z"
        },
        "trusted": true,
        "id": "ZAYig15UpmRz"
      },
      "execution_count": null,
      "outputs": []
    },
    {
      "cell_type": "code",
      "source": [
        "data.type.value_counts()"
      ],
      "metadata": {
        "execution": {
          "iopub.status.busy": "2023-09-25T07:23:43.570051Z",
          "iopub.execute_input": "2023-09-25T07:23:43.570584Z",
          "iopub.status.idle": "2023-09-25T07:23:43.586046Z",
          "shell.execute_reply.started": "2023-09-25T07:23:43.570525Z",
          "shell.execute_reply": "2023-09-25T07:23:43.585308Z"
        },
        "trusted": true,
        "id": "vCpB-vrDpmRz"
      },
      "execution_count": null,
      "outputs": []
    },
    {
      "cell_type": "markdown",
      "source": [
        "In this case, we have an unbalanced dataset, so another model evaluation will be used."
      ],
      "metadata": {
        "id": "XQ5hIk15pmRz"
      }
    },
    {
      "cell_type": "markdown",
      "source": [
        "### Data Cleaning and Processing"
      ],
      "metadata": {
        "id": "Sb0_2_MfpmRz"
      }
    },
    {
      "cell_type": "code",
      "source": [
        "data.isna().sum()"
      ],
      "metadata": {
        "execution": {
          "iopub.status.busy": "2023-09-25T07:23:43.589557Z",
          "iopub.execute_input": "2023-09-25T07:23:43.589801Z",
          "iopub.status.idle": "2023-09-25T07:23:43.602026Z",
          "shell.execute_reply.started": "2023-09-25T07:23:43.589755Z",
          "shell.execute_reply": "2023-09-25T07:23:43.601133Z"
        },
        "trusted": true,
        "id": "Yb6eBDtopmRz"
      },
      "execution_count": null,
      "outputs": []
    },
    {
      "cell_type": "code",
      "source": [
        "data = data.drop(['duracion','avg_local_pkt_rate','avg_remote_pkt_rate'], axis=1).copy()"
      ],
      "metadata": {
        "execution": {
          "iopub.status.busy": "2023-09-25T07:23:43.603522Z",
          "iopub.execute_input": "2023-09-25T07:23:43.60409Z",
          "iopub.status.idle": "2023-09-25T07:23:43.61234Z",
          "shell.execute_reply.started": "2023-09-25T07:23:43.603871Z",
          "shell.execute_reply": "2023-09-25T07:23:43.611613Z"
        },
        "trusted": true,
        "id": "OtzqT3pCpmRz"
      },
      "execution_count": null,
      "outputs": []
    },
    {
      "cell_type": "code",
      "source": [
        "data.describe()"
      ],
      "metadata": {
        "execution": {
          "iopub.status.busy": "2023-09-25T07:23:43.614008Z",
          "iopub.execute_input": "2023-09-25T07:23:43.614477Z",
          "iopub.status.idle": "2023-09-25T07:23:43.672025Z",
          "shell.execute_reply.started": "2023-09-25T07:23:43.614277Z",
          "shell.execute_reply": "2023-09-25T07:23:43.671202Z"
        },
        "trusted": true,
        "id": "iBqYGLpzpmRz"
      },
      "execution_count": null,
      "outputs": []
    },
    {
      "cell_type": "markdown",
      "source": [
        "Now, the idea is to see the outliers in the data"
      ],
      "metadata": {
        "id": "KNBABTB_pmRz"
      }
    },
    {
      "cell_type": "code",
      "source": [
        "sns.boxplot(data.tcp_urg_packet)"
      ],
      "metadata": {
        "execution": {
          "iopub.status.busy": "2023-09-25T07:23:43.673822Z",
          "iopub.execute_input": "2023-09-25T07:23:43.674299Z",
          "iopub.status.idle": "2023-09-25T07:23:43.799971Z",
          "shell.execute_reply.started": "2023-09-25T07:23:43.67411Z",
          "shell.execute_reply": "2023-09-25T07:23:43.79891Z"
        },
        "trusted": true,
        "id": "GhyuGV83pmRz"
      },
      "execution_count": null,
      "outputs": []
    },
    {
      "cell_type": "code",
      "source": [
        "data.loc[data.tcp_urg_packet > 0].shape[0]"
      ],
      "metadata": {
        "execution": {
          "iopub.status.busy": "2023-09-25T07:23:43.801414Z",
          "iopub.execute_input": "2023-09-25T07:23:43.801879Z",
          "iopub.status.idle": "2023-09-25T07:23:43.809775Z",
          "shell.execute_reply.started": "2023-09-25T07:23:43.801688Z",
          "shell.execute_reply": "2023-09-25T07:23:43.808929Z"
        },
        "trusted": true,
        "id": "f_G8xkzepmRz"
      },
      "execution_count": null,
      "outputs": []
    },
    {
      "cell_type": "markdown",
      "source": [
        "That column will be no used for the analysis, only two rows are different to zero, maybe they are interesting for future analysis."
      ],
      "metadata": {
        "id": "YSLIk3ZWpmRz"
      }
    },
    {
      "cell_type": "code",
      "source": [
        "data = data.drop(columns=[\"tcp_urg_packet\"], axis=1).copy()\n",
        "data.shape"
      ],
      "metadata": {
        "execution": {
          "iopub.status.busy": "2023-09-25T07:23:43.811129Z",
          "iopub.execute_input": "2023-09-25T07:23:43.811621Z",
          "iopub.status.idle": "2023-09-25T07:23:43.82469Z",
          "shell.execute_reply.started": "2023-09-25T07:23:43.811567Z",
          "shell.execute_reply": "2023-09-25T07:23:43.823587Z"
        },
        "trusted": true,
        "id": "yF0oQCKepmRz"
      },
      "execution_count": null,
      "outputs": []
    },
    {
      "cell_type": "code",
      "source": [
        "sns.pairplot(data)"
      ],
      "metadata": {
        "execution": {
          "iopub.status.busy": "2023-09-25T07:23:43.826203Z",
          "iopub.execute_input": "2023-09-25T07:23:43.826532Z",
          "iopub.status.idle": "2023-09-25T07:24:11.585619Z",
          "shell.execute_reply.started": "2023-09-25T07:23:43.826468Z",
          "shell.execute_reply": "2023-09-25T07:24:11.58489Z"
        },
        "trusted": true,
        "id": "o8-rs1bwpmRz"
      },
      "execution_count": null,
      "outputs": []
    },
    {
      "cell_type": "markdown",
      "source": [
        "We have many outliers in some features, I will omit the depth analysis and only get the set of the data without the noise."
      ],
      "metadata": {
        "id": "gLZ0VrVwpmRz"
      }
    },
    {
      "cell_type": "code",
      "source": [
        "data=data[data.tcp_packets<20000].copy()\n",
        "data=data[data.dist_port_tcp<1400].copy()\n",
        "data=data[data.external_ips<35].copy()\n",
        "data=data[data.vulume_bytes<2000000].copy()\n",
        "data=data[data.udp_packets<40].copy()\n",
        "data=data[data.remote_app_packets<15000].copy()"
      ],
      "metadata": {
        "execution": {
          "iopub.status.busy": "2023-09-25T07:24:11.587029Z",
          "iopub.execute_input": "2023-09-25T07:24:11.5875Z",
          "iopub.status.idle": "2023-09-25T07:24:11.610156Z",
          "shell.execute_reply.started": "2023-09-25T07:24:11.587446Z",
          "shell.execute_reply": "2023-09-25T07:24:11.609382Z"
        },
        "trusted": true,
        "id": "6YdOVFvupmRz"
      },
      "execution_count": null,
      "outputs": []
    },
    {
      "cell_type": "code",
      "source": [
        "data[data.duplicated()].sum()"
      ],
      "metadata": {
        "execution": {
          "iopub.status.busy": "2023-09-25T07:24:11.611745Z",
          "iopub.execute_input": "2023-09-25T07:24:11.612228Z",
          "iopub.status.idle": "2023-09-25T07:24:11.636108Z",
          "shell.execute_reply.started": "2023-09-25T07:24:11.612044Z",
          "shell.execute_reply": "2023-09-25T07:24:11.635357Z"
        },
        "trusted": true,
        "id": "l2Y3xeAZpmRz"
      },
      "execution_count": null,
      "outputs": []
    },
    {
      "cell_type": "code",
      "source": [
        "data=data.drop('source_app_packets.1',axis=1).copy()"
      ],
      "metadata": {
        "execution": {
          "iopub.status.busy": "2023-09-25T07:24:11.637492Z",
          "iopub.execute_input": "2023-09-25T07:24:11.638046Z",
          "iopub.status.idle": "2023-09-25T07:24:11.644803Z",
          "shell.execute_reply.started": "2023-09-25T07:24:11.637995Z",
          "shell.execute_reply": "2023-09-25T07:24:11.64426Z"
        },
        "trusted": true,
        "id": "ALh3lYKWpmRz"
      },
      "execution_count": null,
      "outputs": []
    },
    {
      "cell_type": "code",
      "source": [
        "scaler = preprocessing.RobustScaler()\n",
        "scaledData = scaler.fit_transform(data.iloc[:,1:11])\n",
        "scaledData = pd.DataFrame(scaledData, columns=['tcp_packets','dist_port_tcp','external_ips','vulume_bytes','udp_packets','source_app_packets','remote_app_packets',' source_app_bytes','remote_app_bytes','dns_query_times'])"
      ],
      "metadata": {
        "execution": {
          "iopub.status.busy": "2023-09-25T07:24:11.646357Z",
          "iopub.execute_input": "2023-09-25T07:24:11.646975Z",
          "iopub.status.idle": "2023-09-25T07:24:11.662564Z",
          "shell.execute_reply.started": "2023-09-25T07:24:11.64692Z",
          "shell.execute_reply": "2023-09-25T07:24:11.662037Z"
        },
        "trusted": true,
        "id": "Euux4EbqpmRz"
      },
      "execution_count": null,
      "outputs": []
    },
    {
      "cell_type": "markdown",
      "source": [
        "From [6] we concluded that the best network features are:\n",
        "\n",
        "+ (R1): TCP packets, it has the number of packets TCP sent and got during communication.\n",
        "+ (R2): Different TCP packets, it is the total number of packets different from TCP.\n",
        "+ (R3): External IP, represents the number the external addresses (IPs) where the application tried to communicated\n",
        "+ (R4): Volume of bytes, it is the number of bytes that was sent from the application to the external sites\n",
        "+ (R5) UDP packets, the total number of packets UDP transmitted in a communication.\n",
        "+ (R6) Packets of the source application, it is the number of packets that were sent from the application to a remote server.\n",
        "+ (R7) Remote application packages, number of packages received from external sources.\n",
        "+ (R8) Bytes of the application source, this is the volume (in Bytes) of the communication between the application and server.\n",
        "+ (R9) Bytes of the application remote, this is the volume (in Bytes) of the data from the server to the emulator.\n",
        "+ (R10) DNS queries, number of DNS queries.\n"
      ],
      "metadata": {
        "id": "VzfOg_KXpmRz"
      }
    },
    {
      "cell_type": "markdown",
      "source": [
        "### Modeling"
      ],
      "metadata": {
        "id": "VWs_k33xpmR0"
      }
    },
    {
      "cell_type": "code",
      "source": [
        "X_train, X_test, y_train, y_test = train_test_split(scaledData.iloc[:,0:10], data.type.astype(\"str\"), test_size=0.25, random_state=45)"
      ],
      "metadata": {
        "execution": {
          "iopub.status.busy": "2023-09-25T07:24:11.663811Z",
          "iopub.execute_input": "2023-09-25T07:24:11.664354Z",
          "iopub.status.idle": "2023-09-25T07:24:11.674489Z",
          "shell.execute_reply.started": "2023-09-25T07:24:11.664304Z",
          "shell.execute_reply": "2023-09-25T07:24:11.673935Z"
        },
        "trusted": true,
        "id": "7ZsUyQlBpmR0"
      },
      "execution_count": null,
      "outputs": []
    },
    {
      "cell_type": "code",
      "source": [
        "gnb = GaussianNB()\n",
        "gnb.fit(X_train, y_train)\n",
        "pred = gnb.predict(X_test)\n",
        "## accuracy\n",
        "accuracy = accuracy_score(y_test,pred)\n",
        "print(\"naive_bayes\")\n",
        "print(accuracy)\n",
        "print(classification_report(y_test,pred, labels=None))\n",
        "print(\"cohen kappa score\")\n",
        "print(cohen_kappa_score(y_test, pred))"
      ],
      "metadata": {
        "execution": {
          "iopub.status.busy": "2023-09-25T07:24:11.676034Z",
          "iopub.execute_input": "2023-09-25T07:24:11.676629Z",
          "iopub.status.idle": "2023-09-25T07:24:11.793159Z",
          "shell.execute_reply.started": "2023-09-25T07:24:11.676556Z",
          "shell.execute_reply": "2023-09-25T07:24:11.791891Z"
        },
        "trusted": true,
        "id": "9ZxniceXpmR0"
      },
      "execution_count": null,
      "outputs": []
    },
    {
      "cell_type": "code",
      "source": [
        "# kneighbors algorithm\n",
        "\n",
        "for i in range(3,15,3):\n",
        "\n",
        "    neigh = KNeighborsClassifier(n_neighbors=i)\n",
        "    neigh.fit(X_train, y_train)\n",
        "    pred = neigh.predict(X_test)\n",
        "    # accuracy\n",
        "    accuracy = accuracy_score(pred, y_test)\n",
        "    print(\"kneighbors {}\".format(i))\n",
        "    print(accuracy)\n",
        "    print(classification_report(pred, y_test, labels=None))\n",
        "    print(\"cohen kappa score\")\n",
        "    print(cohen_kappa_score(y_test, pred))\n",
        "    print(\"\")"
      ],
      "metadata": {
        "execution": {
          "iopub.status.busy": "2023-09-25T07:24:11.79454Z",
          "iopub.execute_input": "2023-09-25T07:24:11.794823Z",
          "iopub.status.idle": "2023-09-25T07:24:12.787955Z",
          "shell.execute_reply.started": "2023-09-25T07:24:11.794776Z",
          "shell.execute_reply": "2023-09-25T07:24:12.787271Z"
        },
        "trusted": true,
        "id": "k9rvfmBGpmR0"
      },
      "execution_count": null,
      "outputs": []
    },
    {
      "cell_type": "code",
      "source": [
        "rdF=RandomForestClassifier(n_estimators=250, max_depth=50,random_state=45)\n",
        "rdF.fit(X_train,y_train)\n",
        "pred=rdF.predict(X_test)\n",
        "cm=confusion_matrix(y_test, pred)\n",
        "\n",
        "accuracy = accuracy_score(y_test,pred)\n",
        "print(rdF)\n",
        "print(accuracy)\n",
        "print(classification_report(y_test,pred, labels=None))\n",
        "print(\"cohen kappa score\")\n",
        "print(cohen_kappa_score(y_test, pred))\n",
        "print(cm)"
      ],
      "metadata": {
        "execution": {
          "iopub.status.busy": "2023-09-25T07:24:12.791636Z",
          "iopub.execute_input": "2023-09-25T07:24:12.791918Z",
          "iopub.status.idle": "2023-09-25T07:24:15.063964Z",
          "shell.execute_reply.started": "2023-09-25T07:24:12.791866Z",
          "shell.execute_reply": "2023-09-25T07:24:15.063019Z"
        },
        "trusted": true,
        "id": "cs1b-u0EpmR0"
      },
      "execution_count": null,
      "outputs": []
    }
  ]
}
