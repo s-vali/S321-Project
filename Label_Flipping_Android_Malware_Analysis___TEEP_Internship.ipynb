{
  "metadata": {
    "kernelspec": {
      "language": "python",
      "display_name": "Python 3",
      "name": "python3"
    },
    "language_info": {
      "pygments_lexer": "ipython3",
      "nbconvert_exporter": "python",
      "version": "3.6.4",
      "file_extension": ".py",
      "codemirror_mode": {
        "name": "ipython",
        "version": 3
      },
      "name": "python",
      "mimetype": "text/x-python"
    },
    "colab": {
      "provenance": []
    }
  },
  "nbformat_minor": 0,
  "nbformat": 4,
  "cells": [
    {
      "source": [
        "# IMPORTANT: RUN THIS CELL IN ORDER TO IMPORT YOUR KAGGLE DATA SOURCES,\n",
        "# THEN FEEL FREE TO DELETE THIS CELL.\n",
        "# NOTE: THIS NOTEBOOK ENVIRONMENT DIFFERS FROM KAGGLE'S PYTHON\n",
        "# ENVIRONMENT SO THERE MAY BE MISSING LIBRARIES USED BY YOUR\n",
        "# NOTEBOOK.\n",
        "import kagglehub\n",
        "xwolf12_datasetandroidpermissions_path = kagglehub.dataset_download('xwolf12/datasetandroidpermissions')\n",
        "xwolf12_network_traffic_android_malware_path = kagglehub.dataset_download('xwolf12/network-traffic-android-malware')\n",
        "\n",
        "print('Data source import complete.')\n"
      ],
      "metadata": {
        "id": "_5j6uHwnjTD4",
        "outputId": "2fab5c35-0e45-4b0c-bfb6-9357206c32f3",
        "colab": {
          "base_uri": "https://localhost:8080/"
        }
      },
      "cell_type": "code",
      "outputs": [
        {
          "output_type": "stream",
          "name": "stdout",
          "text": [
            "Downloading from https://www.kaggle.com/api/v1/datasets/download/xwolf12/datasetandroidpermissions?dataset_version_number=1...\n"
          ]
        },
        {
          "output_type": "stream",
          "name": "stderr",
          "text": [
            "100%|██████████| 9.03k/9.03k [00:00<00:00, 13.3MB/s]"
          ]
        },
        {
          "output_type": "stream",
          "name": "stdout",
          "text": [
            "Extracting files...\n"
          ]
        },
        {
          "output_type": "stream",
          "name": "stderr",
          "text": [
            "\n"
          ]
        },
        {
          "output_type": "stream",
          "name": "stdout",
          "text": [
            "Downloading from https://www.kaggle.com/api/v1/datasets/download/xwolf12/network-traffic-android-malware?dataset_version_number=1...\n"
          ]
        },
        {
          "output_type": "stream",
          "name": "stderr",
          "text": [
            "100%|██████████| 114k/114k [00:00<00:00, 46.4MB/s]"
          ]
        },
        {
          "output_type": "stream",
          "name": "stdout",
          "text": [
            "Extracting files...\n",
            "Data source import complete.\n"
          ]
        },
        {
          "output_type": "stream",
          "name": "stderr",
          "text": [
            "\n"
          ]
        }
      ],
      "execution_count": 2
    },
    {
      "cell_type": "markdown",
      "source": [
        "# Android Malware Analysis"
      ],
      "metadata": {
        "id": "frViEfWAjTD5"
      }
    },
    {
      "cell_type": "markdown",
      "source": [
        "### Packages"
      ],
      "metadata": {
        "_uuid": "d629ff2d2480ee46fbb7e2d37f6b5fab8052498a",
        "_cell_guid": "79c7e3d0-c299-4dcb-8224-4455121ee9b0",
        "id": "UkYiujPxjTD6"
      }
    },
    {
      "cell_type": "code",
      "source": [
        "from sklearn.naive_bayes import GaussianNB, BernoulliNB\n",
        "from sklearn.metrics import accuracy_score, classification_report\n",
        "from sklearn.ensemble import BaggingClassifier\n",
        "from sklearn.neighbors import KNeighborsClassifier\n",
        "from sklearn.linear_model import SGDClassifier\n",
        "from sklearn.model_selection import train_test_split\n",
        "from sklearn.metrics import cohen_kappa_score\n",
        "from sklearn.metrics import confusion_matrix\n",
        "from sklearn.ensemble import RandomForestClassifier\n",
        "\n",
        "from sklearn import preprocessing\n",
        "import torch\n",
        "from sklearn import svm\n",
        "from sklearn import tree\n",
        "import pandas as pd\n",
        "!pip install joblib #NEW\n",
        "import joblib #NEW\n",
        "import pickle\n",
        "import numpy as np\n",
        "import seaborn as sns"
      ],
      "metadata": {
        "execution": {
          "iopub.status.busy": "2023-09-25T07:23:42.702307Z",
          "iopub.execute_input": "2023-09-25T07:23:42.702779Z",
          "iopub.status.idle": "2023-09-25T07:23:42.713649Z",
          "shell.execute_reply.started": "2023-09-25T07:23:42.702715Z",
          "shell.execute_reply": "2023-09-25T07:23:42.712939Z"
        },
        "trusted": true,
        "id": "hl6R6eUdjTD6",
        "outputId": "1daf27af-128e-415f-e77e-5c461d9ddf63",
        "colab": {
          "base_uri": "https://localhost:8080/"
        }
      },
      "execution_count": 3,
      "outputs": [
        {
          "output_type": "stream",
          "name": "stdout",
          "text": [
            "Requirement already satisfied: joblib in /usr/local/lib/python3.10/dist-packages (1.4.2)\n"
          ]
        }
      ]
    },
    {
      "cell_type": "markdown",
      "source": [
        "### Exploratory"
      ],
      "metadata": {
        "id": "Pb7q0DnGjTD7"
      }
    },
    {
      "cell_type": "code",
      "source": [
        "import pandas as pd\n",
        "df = pd.read_csv(\"train.csv\", sep=\";\") # before: df = pd.read_csv(\"../input/datasetandroidpermissions/train.csv\", sep=\";\")"
      ],
      "metadata": {
        "execution": {
          "iopub.status.busy": "2023-09-25T07:23:42.715996Z",
          "iopub.execute_input": "2023-09-25T07:23:42.71656Z",
          "iopub.status.idle": "2023-09-25T07:23:42.776345Z",
          "shell.execute_reply.started": "2023-09-25T07:23:42.71646Z",
          "shell.execute_reply": "2023-09-25T07:23:42.775569Z"
        },
        "trusted": true,
        "id": "3E70kp2EjTD7"
      },
      "execution_count": 4,
      "outputs": []
    },
    {
      "cell_type": "code",
      "source": [
        "#df\n",
        "dfFlip = df.copy()\n",
        "for i in dfFlip.index:\n",
        "    if i%3 == 0:\n",
        "      dfFlip.at[i, 'type'] = 1 if (dfFlip.at[i, 'type'] == 0) else 0\n",
        "dfFlip"
      ],
      "metadata": {
        "id": "W7byb3fJkj76",
        "outputId": "cbf47e13-c1b2-400b-bfd3-2a6e57f21dc8",
        "colab": {
          "base_uri": "https://localhost:8080/",
          "height": 443
        }
      },
      "execution_count": 19,
      "outputs": [
        {
          "output_type": "execute_result",
          "data": {
            "text/plain": [
              "     android  android.app.cts.permission.TEST_GRANTED  \\\n",
              "0          0                                        0   \n",
              "1          0                                        0   \n",
              "2          0                                        0   \n",
              "3          0                                        0   \n",
              "4          0                                        0   \n",
              "..       ...                                      ...   \n",
              "393        0                                        0   \n",
              "394        0                                        0   \n",
              "395        0                                        0   \n",
              "396        0                                        0   \n",
              "397        0                                        0   \n",
              "\n",
              "     android.intent.category.MASTER_CLEAR.permission.C2D_MESSAGE  \\\n",
              "0                                                    0             \n",
              "1                                                    0             \n",
              "2                                                    0             \n",
              "3                                                    0             \n",
              "4                                                    0             \n",
              "..                                                 ...             \n",
              "393                                                  0             \n",
              "394                                                  0             \n",
              "395                                                  0             \n",
              "396                                                  0             \n",
              "397                                                  0             \n",
              "\n",
              "     android.os.cts.permission.TEST_GRANTED  \\\n",
              "0                                         0   \n",
              "1                                         0   \n",
              "2                                         0   \n",
              "3                                         0   \n",
              "4                                         0   \n",
              "..                                      ...   \n",
              "393                                       0   \n",
              "394                                       0   \n",
              "395                                       0   \n",
              "396                                       0   \n",
              "397                                       0   \n",
              "\n",
              "     android.permission.ACCESS_ALL_DOWNLOADS  \\\n",
              "0                                          0   \n",
              "1                                          0   \n",
              "2                                          0   \n",
              "3                                          0   \n",
              "4                                          0   \n",
              "..                                       ...   \n",
              "393                                        0   \n",
              "394                                        0   \n",
              "395                                        0   \n",
              "396                                        0   \n",
              "397                                        0   \n",
              "\n",
              "     android.permission.ACCESS_ALL_EXTERNAL_STORAGE  \\\n",
              "0                                                 0   \n",
              "1                                                 0   \n",
              "2                                                 0   \n",
              "3                                                 0   \n",
              "4                                                 0   \n",
              "..                                              ...   \n",
              "393                                               0   \n",
              "394                                               0   \n",
              "395                                               0   \n",
              "396                                               0   \n",
              "397                                               0   \n",
              "\n",
              "     android.permission.ACCESS_BLUETOOTH_SHARE  \\\n",
              "0                                            0   \n",
              "1                                            0   \n",
              "2                                            0   \n",
              "3                                            0   \n",
              "4                                            0   \n",
              "..                                         ...   \n",
              "393                                          0   \n",
              "394                                          0   \n",
              "395                                          0   \n",
              "396                                          0   \n",
              "397                                          0   \n",
              "\n",
              "     android.permission.ACCESS_CACHE_FILESYSTEM  \\\n",
              "0                                             0   \n",
              "1                                             0   \n",
              "2                                             0   \n",
              "3                                             0   \n",
              "4                                             0   \n",
              "..                                          ...   \n",
              "393                                           0   \n",
              "394                                           0   \n",
              "395                                           0   \n",
              "396                                           0   \n",
              "397                                           0   \n",
              "\n",
              "     android.permission.ACCESS_CHECKIN_PROPERTIES  \\\n",
              "0                                               0   \n",
              "1                                               0   \n",
              "2                                               0   \n",
              "3                                               0   \n",
              "4                                               0   \n",
              "..                                            ...   \n",
              "393                                             0   \n",
              "394                                             0   \n",
              "395                                             0   \n",
              "396                                             0   \n",
              "397                                             0   \n",
              "\n",
              "     android.permission.ACCESS_COARSE_LOCATION  ...  \\\n",
              "0                                            0  ...   \n",
              "1                                            0  ...   \n",
              "2                                            0  ...   \n",
              "3                                            0  ...   \n",
              "4                                            0  ...   \n",
              "..                                         ...  ...   \n",
              "393                                          0  ...   \n",
              "394                                          0  ...   \n",
              "395                                          0  ...   \n",
              "396                                          0  ...   \n",
              "397                                          0  ...   \n",
              "\n",
              "     com.android.voicemail.permission.WRITE_VOICEMAIL  com.foo.mypermission  \\\n",
              "0                                                   0                     0   \n",
              "1                                                   0                     0   \n",
              "2                                                   0                     0   \n",
              "3                                                   0                     0   \n",
              "4                                                   0                     0   \n",
              "..                                                ...                   ...   \n",
              "393                                                 0                     0   \n",
              "394                                                 0                     0   \n",
              "395                                                 0                     0   \n",
              "396                                                 0                     0   \n",
              "397                                                 0                     0   \n",
              "\n",
              "     com.foo.mypermission2  org.chromium.chrome.shell.permission.C2D_MESSAGE  \\\n",
              "0                        0                                                 0   \n",
              "1                        0                                                 0   \n",
              "2                        0                                                 0   \n",
              "3                        0                                                 0   \n",
              "4                        0                                                 0   \n",
              "..                     ...                                               ...   \n",
              "393                      0                                                 0   \n",
              "394                      0                                                 0   \n",
              "395                      0                                                 0   \n",
              "396                      0                                                 0   \n",
              "397                      0                                                 0   \n",
              "\n",
              "     org.chromium.chrome.shell.permission.DEBUG  \\\n",
              "0                                             0   \n",
              "1                                             0   \n",
              "2                                             0   \n",
              "3                                             0   \n",
              "4                                             0   \n",
              "..                                          ...   \n",
              "393                                           0   \n",
              "394                                           0   \n",
              "395                                           0   \n",
              "396                                           0   \n",
              "397                                           0   \n",
              "\n",
              "     org.chromium.chrome.shell.permission.SANDBOX  \\\n",
              "0                                               0   \n",
              "1                                               0   \n",
              "2                                               0   \n",
              "3                                               0   \n",
              "4                                               0   \n",
              "..                                            ...   \n",
              "393                                             0   \n",
              "394                                             0   \n",
              "395                                             0   \n",
              "396                                             0   \n",
              "397                                             0   \n",
              "\n",
              "     org.chromium.chromecast.shell.permission.SANDBOX  \\\n",
              "0                                                   0   \n",
              "1                                                   0   \n",
              "2                                                   0   \n",
              "3                                                   0   \n",
              "4                                                   0   \n",
              "..                                                ...   \n",
              "393                                                 0   \n",
              "394                                                 0   \n",
              "395                                                 0   \n",
              "396                                                 0   \n",
              "397                                                 0   \n",
              "\n",
              "     org.chromium.content_shell.permission.SANDBOX  test_permission  type  \n",
              "0                                                0                0     0  \n",
              "1                                                0                0     1  \n",
              "2                                                0                0     1  \n",
              "3                                                0                0     0  \n",
              "4                                                0                0     1  \n",
              "..                                             ...              ...   ...  \n",
              "393                                              0                0     1  \n",
              "394                                              0                0     0  \n",
              "395                                              0                0     0  \n",
              "396                                              0                0     1  \n",
              "397                                              0                0     0  \n",
              "\n",
              "[398 rows x 331 columns]"
            ],
            "text/html": [
              "\n",
              "  <div id=\"df-75322987-af45-4d0b-8b0a-7cd2a6b3cabe\" class=\"colab-df-container\">\n",
              "    <div>\n",
              "<style scoped>\n",
              "    .dataframe tbody tr th:only-of-type {\n",
              "        vertical-align: middle;\n",
              "    }\n",
              "\n",
              "    .dataframe tbody tr th {\n",
              "        vertical-align: top;\n",
              "    }\n",
              "\n",
              "    .dataframe thead th {\n",
              "        text-align: right;\n",
              "    }\n",
              "</style>\n",
              "<table border=\"1\" class=\"dataframe\">\n",
              "  <thead>\n",
              "    <tr style=\"text-align: right;\">\n",
              "      <th></th>\n",
              "      <th>android</th>\n",
              "      <th>android.app.cts.permission.TEST_GRANTED</th>\n",
              "      <th>android.intent.category.MASTER_CLEAR.permission.C2D_MESSAGE</th>\n",
              "      <th>android.os.cts.permission.TEST_GRANTED</th>\n",
              "      <th>android.permission.ACCESS_ALL_DOWNLOADS</th>\n",
              "      <th>android.permission.ACCESS_ALL_EXTERNAL_STORAGE</th>\n",
              "      <th>android.permission.ACCESS_BLUETOOTH_SHARE</th>\n",
              "      <th>android.permission.ACCESS_CACHE_FILESYSTEM</th>\n",
              "      <th>android.permission.ACCESS_CHECKIN_PROPERTIES</th>\n",
              "      <th>android.permission.ACCESS_COARSE_LOCATION</th>\n",
              "      <th>...</th>\n",
              "      <th>com.android.voicemail.permission.WRITE_VOICEMAIL</th>\n",
              "      <th>com.foo.mypermission</th>\n",
              "      <th>com.foo.mypermission2</th>\n",
              "      <th>org.chromium.chrome.shell.permission.C2D_MESSAGE</th>\n",
              "      <th>org.chromium.chrome.shell.permission.DEBUG</th>\n",
              "      <th>org.chromium.chrome.shell.permission.SANDBOX</th>\n",
              "      <th>org.chromium.chromecast.shell.permission.SANDBOX</th>\n",
              "      <th>org.chromium.content_shell.permission.SANDBOX</th>\n",
              "      <th>test_permission</th>\n",
              "      <th>type</th>\n",
              "    </tr>\n",
              "  </thead>\n",
              "  <tbody>\n",
              "    <tr>\n",
              "      <th>0</th>\n",
              "      <td>0</td>\n",
              "      <td>0</td>\n",
              "      <td>0</td>\n",
              "      <td>0</td>\n",
              "      <td>0</td>\n",
              "      <td>0</td>\n",
              "      <td>0</td>\n",
              "      <td>0</td>\n",
              "      <td>0</td>\n",
              "      <td>0</td>\n",
              "      <td>...</td>\n",
              "      <td>0</td>\n",
              "      <td>0</td>\n",
              "      <td>0</td>\n",
              "      <td>0</td>\n",
              "      <td>0</td>\n",
              "      <td>0</td>\n",
              "      <td>0</td>\n",
              "      <td>0</td>\n",
              "      <td>0</td>\n",
              "      <td>0</td>\n",
              "    </tr>\n",
              "    <tr>\n",
              "      <th>1</th>\n",
              "      <td>0</td>\n",
              "      <td>0</td>\n",
              "      <td>0</td>\n",
              "      <td>0</td>\n",
              "      <td>0</td>\n",
              "      <td>0</td>\n",
              "      <td>0</td>\n",
              "      <td>0</td>\n",
              "      <td>0</td>\n",
              "      <td>0</td>\n",
              "      <td>...</td>\n",
              "      <td>0</td>\n",
              "      <td>0</td>\n",
              "      <td>0</td>\n",
              "      <td>0</td>\n",
              "      <td>0</td>\n",
              "      <td>0</td>\n",
              "      <td>0</td>\n",
              "      <td>0</td>\n",
              "      <td>0</td>\n",
              "      <td>1</td>\n",
              "    </tr>\n",
              "    <tr>\n",
              "      <th>2</th>\n",
              "      <td>0</td>\n",
              "      <td>0</td>\n",
              "      <td>0</td>\n",
              "      <td>0</td>\n",
              "      <td>0</td>\n",
              "      <td>0</td>\n",
              "      <td>0</td>\n",
              "      <td>0</td>\n",
              "      <td>0</td>\n",
              "      <td>0</td>\n",
              "      <td>...</td>\n",
              "      <td>0</td>\n",
              "      <td>0</td>\n",
              "      <td>0</td>\n",
              "      <td>0</td>\n",
              "      <td>0</td>\n",
              "      <td>0</td>\n",
              "      <td>0</td>\n",
              "      <td>0</td>\n",
              "      <td>0</td>\n",
              "      <td>1</td>\n",
              "    </tr>\n",
              "    <tr>\n",
              "      <th>3</th>\n",
              "      <td>0</td>\n",
              "      <td>0</td>\n",
              "      <td>0</td>\n",
              "      <td>0</td>\n",
              "      <td>0</td>\n",
              "      <td>0</td>\n",
              "      <td>0</td>\n",
              "      <td>0</td>\n",
              "      <td>0</td>\n",
              "      <td>0</td>\n",
              "      <td>...</td>\n",
              "      <td>0</td>\n",
              "      <td>0</td>\n",
              "      <td>0</td>\n",
              "      <td>0</td>\n",
              "      <td>0</td>\n",
              "      <td>0</td>\n",
              "      <td>0</td>\n",
              "      <td>0</td>\n",
              "      <td>0</td>\n",
              "      <td>0</td>\n",
              "    </tr>\n",
              "    <tr>\n",
              "      <th>4</th>\n",
              "      <td>0</td>\n",
              "      <td>0</td>\n",
              "      <td>0</td>\n",
              "      <td>0</td>\n",
              "      <td>0</td>\n",
              "      <td>0</td>\n",
              "      <td>0</td>\n",
              "      <td>0</td>\n",
              "      <td>0</td>\n",
              "      <td>0</td>\n",
              "      <td>...</td>\n",
              "      <td>0</td>\n",
              "      <td>0</td>\n",
              "      <td>0</td>\n",
              "      <td>0</td>\n",
              "      <td>0</td>\n",
              "      <td>0</td>\n",
              "      <td>0</td>\n",
              "      <td>0</td>\n",
              "      <td>0</td>\n",
              "      <td>1</td>\n",
              "    </tr>\n",
              "    <tr>\n",
              "      <th>...</th>\n",
              "      <td>...</td>\n",
              "      <td>...</td>\n",
              "      <td>...</td>\n",
              "      <td>...</td>\n",
              "      <td>...</td>\n",
              "      <td>...</td>\n",
              "      <td>...</td>\n",
              "      <td>...</td>\n",
              "      <td>...</td>\n",
              "      <td>...</td>\n",
              "      <td>...</td>\n",
              "      <td>...</td>\n",
              "      <td>...</td>\n",
              "      <td>...</td>\n",
              "      <td>...</td>\n",
              "      <td>...</td>\n",
              "      <td>...</td>\n",
              "      <td>...</td>\n",
              "      <td>...</td>\n",
              "      <td>...</td>\n",
              "      <td>...</td>\n",
              "    </tr>\n",
              "    <tr>\n",
              "      <th>393</th>\n",
              "      <td>0</td>\n",
              "      <td>0</td>\n",
              "      <td>0</td>\n",
              "      <td>0</td>\n",
              "      <td>0</td>\n",
              "      <td>0</td>\n",
              "      <td>0</td>\n",
              "      <td>0</td>\n",
              "      <td>0</td>\n",
              "      <td>0</td>\n",
              "      <td>...</td>\n",
              "      <td>0</td>\n",
              "      <td>0</td>\n",
              "      <td>0</td>\n",
              "      <td>0</td>\n",
              "      <td>0</td>\n",
              "      <td>0</td>\n",
              "      <td>0</td>\n",
              "      <td>0</td>\n",
              "      <td>0</td>\n",
              "      <td>1</td>\n",
              "    </tr>\n",
              "    <tr>\n",
              "      <th>394</th>\n",
              "      <td>0</td>\n",
              "      <td>0</td>\n",
              "      <td>0</td>\n",
              "      <td>0</td>\n",
              "      <td>0</td>\n",
              "      <td>0</td>\n",
              "      <td>0</td>\n",
              "      <td>0</td>\n",
              "      <td>0</td>\n",
              "      <td>0</td>\n",
              "      <td>...</td>\n",
              "      <td>0</td>\n",
              "      <td>0</td>\n",
              "      <td>0</td>\n",
              "      <td>0</td>\n",
              "      <td>0</td>\n",
              "      <td>0</td>\n",
              "      <td>0</td>\n",
              "      <td>0</td>\n",
              "      <td>0</td>\n",
              "      <td>0</td>\n",
              "    </tr>\n",
              "    <tr>\n",
              "      <th>395</th>\n",
              "      <td>0</td>\n",
              "      <td>0</td>\n",
              "      <td>0</td>\n",
              "      <td>0</td>\n",
              "      <td>0</td>\n",
              "      <td>0</td>\n",
              "      <td>0</td>\n",
              "      <td>0</td>\n",
              "      <td>0</td>\n",
              "      <td>0</td>\n",
              "      <td>...</td>\n",
              "      <td>0</td>\n",
              "      <td>0</td>\n",
              "      <td>0</td>\n",
              "      <td>0</td>\n",
              "      <td>0</td>\n",
              "      <td>0</td>\n",
              "      <td>0</td>\n",
              "      <td>0</td>\n",
              "      <td>0</td>\n",
              "      <td>0</td>\n",
              "    </tr>\n",
              "    <tr>\n",
              "      <th>396</th>\n",
              "      <td>0</td>\n",
              "      <td>0</td>\n",
              "      <td>0</td>\n",
              "      <td>0</td>\n",
              "      <td>0</td>\n",
              "      <td>0</td>\n",
              "      <td>0</td>\n",
              "      <td>0</td>\n",
              "      <td>0</td>\n",
              "      <td>0</td>\n",
              "      <td>...</td>\n",
              "      <td>0</td>\n",
              "      <td>0</td>\n",
              "      <td>0</td>\n",
              "      <td>0</td>\n",
              "      <td>0</td>\n",
              "      <td>0</td>\n",
              "      <td>0</td>\n",
              "      <td>0</td>\n",
              "      <td>0</td>\n",
              "      <td>1</td>\n",
              "    </tr>\n",
              "    <tr>\n",
              "      <th>397</th>\n",
              "      <td>0</td>\n",
              "      <td>0</td>\n",
              "      <td>0</td>\n",
              "      <td>0</td>\n",
              "      <td>0</td>\n",
              "      <td>0</td>\n",
              "      <td>0</td>\n",
              "      <td>0</td>\n",
              "      <td>0</td>\n",
              "      <td>0</td>\n",
              "      <td>...</td>\n",
              "      <td>0</td>\n",
              "      <td>0</td>\n",
              "      <td>0</td>\n",
              "      <td>0</td>\n",
              "      <td>0</td>\n",
              "      <td>0</td>\n",
              "      <td>0</td>\n",
              "      <td>0</td>\n",
              "      <td>0</td>\n",
              "      <td>0</td>\n",
              "    </tr>\n",
              "  </tbody>\n",
              "</table>\n",
              "<p>398 rows × 331 columns</p>\n",
              "</div>\n",
              "    <div class=\"colab-df-buttons\">\n",
              "\n",
              "  <div class=\"colab-df-container\">\n",
              "    <button class=\"colab-df-convert\" onclick=\"convertToInteractive('df-75322987-af45-4d0b-8b0a-7cd2a6b3cabe')\"\n",
              "            title=\"Convert this dataframe to an interactive table.\"\n",
              "            style=\"display:none;\">\n",
              "\n",
              "  <svg xmlns=\"http://www.w3.org/2000/svg\" height=\"24px\" viewBox=\"0 -960 960 960\">\n",
              "    <path d=\"M120-120v-720h720v720H120Zm60-500h600v-160H180v160Zm220 220h160v-160H400v160Zm0 220h160v-160H400v160ZM180-400h160v-160H180v160Zm440 0h160v-160H620v160ZM180-180h160v-160H180v160Zm440 0h160v-160H620v160Z\"/>\n",
              "  </svg>\n",
              "    </button>\n",
              "\n",
              "  <style>\n",
              "    .colab-df-container {\n",
              "      display:flex;\n",
              "      gap: 12px;\n",
              "    }\n",
              "\n",
              "    .colab-df-convert {\n",
              "      background-color: #E8F0FE;\n",
              "      border: none;\n",
              "      border-radius: 50%;\n",
              "      cursor: pointer;\n",
              "      display: none;\n",
              "      fill: #1967D2;\n",
              "      height: 32px;\n",
              "      padding: 0 0 0 0;\n",
              "      width: 32px;\n",
              "    }\n",
              "\n",
              "    .colab-df-convert:hover {\n",
              "      background-color: #E2EBFA;\n",
              "      box-shadow: 0px 1px 2px rgba(60, 64, 67, 0.3), 0px 1px 3px 1px rgba(60, 64, 67, 0.15);\n",
              "      fill: #174EA6;\n",
              "    }\n",
              "\n",
              "    .colab-df-buttons div {\n",
              "      margin-bottom: 4px;\n",
              "    }\n",
              "\n",
              "    [theme=dark] .colab-df-convert {\n",
              "      background-color: #3B4455;\n",
              "      fill: #D2E3FC;\n",
              "    }\n",
              "\n",
              "    [theme=dark] .colab-df-convert:hover {\n",
              "      background-color: #434B5C;\n",
              "      box-shadow: 0px 1px 3px 1px rgba(0, 0, 0, 0.15);\n",
              "      filter: drop-shadow(0px 1px 2px rgba(0, 0, 0, 0.3));\n",
              "      fill: #FFFFFF;\n",
              "    }\n",
              "  </style>\n",
              "\n",
              "    <script>\n",
              "      const buttonEl =\n",
              "        document.querySelector('#df-75322987-af45-4d0b-8b0a-7cd2a6b3cabe button.colab-df-convert');\n",
              "      buttonEl.style.display =\n",
              "        google.colab.kernel.accessAllowed ? 'block' : 'none';\n",
              "\n",
              "      async function convertToInteractive(key) {\n",
              "        const element = document.querySelector('#df-75322987-af45-4d0b-8b0a-7cd2a6b3cabe');\n",
              "        const dataTable =\n",
              "          await google.colab.kernel.invokeFunction('convertToInteractive',\n",
              "                                                    [key], {});\n",
              "        if (!dataTable) return;\n",
              "\n",
              "        const docLinkHtml = 'Like what you see? Visit the ' +\n",
              "          '<a target=\"_blank\" href=https://colab.research.google.com/notebooks/data_table.ipynb>data table notebook</a>'\n",
              "          + ' to learn more about interactive tables.';\n",
              "        element.innerHTML = '';\n",
              "        dataTable['output_type'] = 'display_data';\n",
              "        await google.colab.output.renderOutput(dataTable, element);\n",
              "        const docLink = document.createElement('div');\n",
              "        docLink.innerHTML = docLinkHtml;\n",
              "        element.appendChild(docLink);\n",
              "      }\n",
              "    </script>\n",
              "  </div>\n",
              "\n",
              "\n",
              "<div id=\"df-2227f5c1-344a-4d81-9f4e-765e2f09cf90\">\n",
              "  <button class=\"colab-df-quickchart\" onclick=\"quickchart('df-2227f5c1-344a-4d81-9f4e-765e2f09cf90')\"\n",
              "            title=\"Suggest charts\"\n",
              "            style=\"display:none;\">\n",
              "\n",
              "<svg xmlns=\"http://www.w3.org/2000/svg\" height=\"24px\"viewBox=\"0 0 24 24\"\n",
              "     width=\"24px\">\n",
              "    <g>\n",
              "        <path d=\"M19 3H5c-1.1 0-2 .9-2 2v14c0 1.1.9 2 2 2h14c1.1 0 2-.9 2-2V5c0-1.1-.9-2-2-2zM9 17H7v-7h2v7zm4 0h-2V7h2v10zm4 0h-2v-4h2v4z\"/>\n",
              "    </g>\n",
              "</svg>\n",
              "  </button>\n",
              "\n",
              "<style>\n",
              "  .colab-df-quickchart {\n",
              "      --bg-color: #E8F0FE;\n",
              "      --fill-color: #1967D2;\n",
              "      --hover-bg-color: #E2EBFA;\n",
              "      --hover-fill-color: #174EA6;\n",
              "      --disabled-fill-color: #AAA;\n",
              "      --disabled-bg-color: #DDD;\n",
              "  }\n",
              "\n",
              "  [theme=dark] .colab-df-quickchart {\n",
              "      --bg-color: #3B4455;\n",
              "      --fill-color: #D2E3FC;\n",
              "      --hover-bg-color: #434B5C;\n",
              "      --hover-fill-color: #FFFFFF;\n",
              "      --disabled-bg-color: #3B4455;\n",
              "      --disabled-fill-color: #666;\n",
              "  }\n",
              "\n",
              "  .colab-df-quickchart {\n",
              "    background-color: var(--bg-color);\n",
              "    border: none;\n",
              "    border-radius: 50%;\n",
              "    cursor: pointer;\n",
              "    display: none;\n",
              "    fill: var(--fill-color);\n",
              "    height: 32px;\n",
              "    padding: 0;\n",
              "    width: 32px;\n",
              "  }\n",
              "\n",
              "  .colab-df-quickchart:hover {\n",
              "    background-color: var(--hover-bg-color);\n",
              "    box-shadow: 0 1px 2px rgba(60, 64, 67, 0.3), 0 1px 3px 1px rgba(60, 64, 67, 0.15);\n",
              "    fill: var(--button-hover-fill-color);\n",
              "  }\n",
              "\n",
              "  .colab-df-quickchart-complete:disabled,\n",
              "  .colab-df-quickchart-complete:disabled:hover {\n",
              "    background-color: var(--disabled-bg-color);\n",
              "    fill: var(--disabled-fill-color);\n",
              "    box-shadow: none;\n",
              "  }\n",
              "\n",
              "  .colab-df-spinner {\n",
              "    border: 2px solid var(--fill-color);\n",
              "    border-color: transparent;\n",
              "    border-bottom-color: var(--fill-color);\n",
              "    animation:\n",
              "      spin 1s steps(1) infinite;\n",
              "  }\n",
              "\n",
              "  @keyframes spin {\n",
              "    0% {\n",
              "      border-color: transparent;\n",
              "      border-bottom-color: var(--fill-color);\n",
              "      border-left-color: var(--fill-color);\n",
              "    }\n",
              "    20% {\n",
              "      border-color: transparent;\n",
              "      border-left-color: var(--fill-color);\n",
              "      border-top-color: var(--fill-color);\n",
              "    }\n",
              "    30% {\n",
              "      border-color: transparent;\n",
              "      border-left-color: var(--fill-color);\n",
              "      border-top-color: var(--fill-color);\n",
              "      border-right-color: var(--fill-color);\n",
              "    }\n",
              "    40% {\n",
              "      border-color: transparent;\n",
              "      border-right-color: var(--fill-color);\n",
              "      border-top-color: var(--fill-color);\n",
              "    }\n",
              "    60% {\n",
              "      border-color: transparent;\n",
              "      border-right-color: var(--fill-color);\n",
              "    }\n",
              "    80% {\n",
              "      border-color: transparent;\n",
              "      border-right-color: var(--fill-color);\n",
              "      border-bottom-color: var(--fill-color);\n",
              "    }\n",
              "    90% {\n",
              "      border-color: transparent;\n",
              "      border-bottom-color: var(--fill-color);\n",
              "    }\n",
              "  }\n",
              "</style>\n",
              "\n",
              "  <script>\n",
              "    async function quickchart(key) {\n",
              "      const quickchartButtonEl =\n",
              "        document.querySelector('#' + key + ' button');\n",
              "      quickchartButtonEl.disabled = true;  // To prevent multiple clicks.\n",
              "      quickchartButtonEl.classList.add('colab-df-spinner');\n",
              "      try {\n",
              "        const charts = await google.colab.kernel.invokeFunction(\n",
              "            'suggestCharts', [key], {});\n",
              "      } catch (error) {\n",
              "        console.error('Error during call to suggestCharts:', error);\n",
              "      }\n",
              "      quickchartButtonEl.classList.remove('colab-df-spinner');\n",
              "      quickchartButtonEl.classList.add('colab-df-quickchart-complete');\n",
              "    }\n",
              "    (() => {\n",
              "      let quickchartButtonEl =\n",
              "        document.querySelector('#df-2227f5c1-344a-4d81-9f4e-765e2f09cf90 button');\n",
              "      quickchartButtonEl.style.display =\n",
              "        google.colab.kernel.accessAllowed ? 'block' : 'none';\n",
              "    })();\n",
              "  </script>\n",
              "</div>\n",
              "\n",
              "  <div id=\"id_1c814e8e-e512-4712-be2e-c6677cc070bf\">\n",
              "    <style>\n",
              "      .colab-df-generate {\n",
              "        background-color: #E8F0FE;\n",
              "        border: none;\n",
              "        border-radius: 50%;\n",
              "        cursor: pointer;\n",
              "        display: none;\n",
              "        fill: #1967D2;\n",
              "        height: 32px;\n",
              "        padding: 0 0 0 0;\n",
              "        width: 32px;\n",
              "      }\n",
              "\n",
              "      .colab-df-generate:hover {\n",
              "        background-color: #E2EBFA;\n",
              "        box-shadow: 0px 1px 2px rgba(60, 64, 67, 0.3), 0px 1px 3px 1px rgba(60, 64, 67, 0.15);\n",
              "        fill: #174EA6;\n",
              "      }\n",
              "\n",
              "      [theme=dark] .colab-df-generate {\n",
              "        background-color: #3B4455;\n",
              "        fill: #D2E3FC;\n",
              "      }\n",
              "\n",
              "      [theme=dark] .colab-df-generate:hover {\n",
              "        background-color: #434B5C;\n",
              "        box-shadow: 0px 1px 3px 1px rgba(0, 0, 0, 0.15);\n",
              "        filter: drop-shadow(0px 1px 2px rgba(0, 0, 0, 0.3));\n",
              "        fill: #FFFFFF;\n",
              "      }\n",
              "    </style>\n",
              "    <button class=\"colab-df-generate\" onclick=\"generateWithVariable('dfFlip')\"\n",
              "            title=\"Generate code using this dataframe.\"\n",
              "            style=\"display:none;\">\n",
              "\n",
              "  <svg xmlns=\"http://www.w3.org/2000/svg\" height=\"24px\"viewBox=\"0 0 24 24\"\n",
              "       width=\"24px\">\n",
              "    <path d=\"M7,19H8.4L18.45,9,17,7.55,7,17.6ZM5,21V16.75L18.45,3.32a2,2,0,0,1,2.83,0l1.4,1.43a1.91,1.91,0,0,1,.58,1.4,1.91,1.91,0,0,1-.58,1.4L9.25,21ZM18.45,9,17,7.55Zm-12,3A5.31,5.31,0,0,0,4.9,8.1,5.31,5.31,0,0,0,1,6.5,5.31,5.31,0,0,0,4.9,4.9,5.31,5.31,0,0,0,6.5,1,5.31,5.31,0,0,0,8.1,4.9,5.31,5.31,0,0,0,12,6.5,5.46,5.46,0,0,0,6.5,12Z\"/>\n",
              "  </svg>\n",
              "    </button>\n",
              "    <script>\n",
              "      (() => {\n",
              "      const buttonEl =\n",
              "        document.querySelector('#id_1c814e8e-e512-4712-be2e-c6677cc070bf button.colab-df-generate');\n",
              "      buttonEl.style.display =\n",
              "        google.colab.kernel.accessAllowed ? 'block' : 'none';\n",
              "\n",
              "      buttonEl.onclick = () => {\n",
              "        google.colab.notebook.generateWithVariable('dfFlip');\n",
              "      }\n",
              "      })();\n",
              "    </script>\n",
              "  </div>\n",
              "\n",
              "    </div>\n",
              "  </div>\n"
            ],
            "application/vnd.google.colaboratory.intrinsic+json": {
              "type": "dataframe",
              "variable_name": "dfFlip"
            }
          },
          "metadata": {},
          "execution_count": 19
        }
      ]
    },
    {
      "cell_type": "code",
      "source": [
        "dfFlip = dfFlip.astype(\"int64\")\n",
        "dfFlip.columns"
      ],
      "metadata": {
        "execution": {
          "iopub.status.busy": "2023-09-25T07:23:42.778815Z",
          "iopub.execute_input": "2023-09-25T07:23:42.77938Z",
          "iopub.status.idle": "2023-09-25T07:23:42.788503Z",
          "shell.execute_reply.started": "2023-09-25T07:23:42.779326Z",
          "shell.execute_reply": "2023-09-25T07:23:42.787541Z"
        },
        "trusted": true,
        "id": "ZOyofEgyjTD7",
        "outputId": "37ce42fe-1947-458c-ba62-b48d7deb2f71",
        "colab": {
          "base_uri": "https://localhost:8080/"
        }
      },
      "execution_count": 20,
      "outputs": [
        {
          "output_type": "execute_result",
          "data": {
            "text/plain": [
              "Index(['android', 'android.app.cts.permission.TEST_GRANTED',\n",
              "       'android.intent.category.MASTER_CLEAR.permission.C2D_MESSAGE',\n",
              "       'android.os.cts.permission.TEST_GRANTED',\n",
              "       'android.permission.ACCESS_ALL_DOWNLOADS',\n",
              "       'android.permission.ACCESS_ALL_EXTERNAL_STORAGE',\n",
              "       'android.permission.ACCESS_BLUETOOTH_SHARE',\n",
              "       'android.permission.ACCESS_CACHE_FILESYSTEM',\n",
              "       'android.permission.ACCESS_CHECKIN_PROPERTIES',\n",
              "       'android.permission.ACCESS_COARSE_LOCATION',\n",
              "       ...\n",
              "       'com.android.voicemail.permission.WRITE_VOICEMAIL',\n",
              "       'com.foo.mypermission', 'com.foo.mypermission2',\n",
              "       'org.chromium.chrome.shell.permission.C2D_MESSAGE',\n",
              "       'org.chromium.chrome.shell.permission.DEBUG',\n",
              "       'org.chromium.chrome.shell.permission.SANDBOX',\n",
              "       'org.chromium.chromecast.shell.permission.SANDBOX',\n",
              "       'org.chromium.content_shell.permission.SANDBOX', 'test_permission',\n",
              "       'type'],\n",
              "      dtype='object', length=331)"
            ]
          },
          "metadata": {},
          "execution_count": 20
        }
      ]
    },
    {
      "cell_type": "code",
      "source": [
        "dfFlip['type']"
      ],
      "metadata": {
        "id": "iqDxGx4nk8--",
        "outputId": "bd67e304-b2a2-4e29-965f-f851c7a33729",
        "colab": {
          "base_uri": "https://localhost:8080/",
          "height": 458
        }
      },
      "execution_count": 21,
      "outputs": [
        {
          "output_type": "execute_result",
          "data": {
            "text/plain": [
              "0      0\n",
              "1      1\n",
              "2      1\n",
              "3      0\n",
              "4      1\n",
              "      ..\n",
              "393    1\n",
              "394    0\n",
              "395    0\n",
              "396    1\n",
              "397    0\n",
              "Name: type, Length: 398, dtype: int64"
            ],
            "text/html": [
              "<div>\n",
              "<style scoped>\n",
              "    .dataframe tbody tr th:only-of-type {\n",
              "        vertical-align: middle;\n",
              "    }\n",
              "\n",
              "    .dataframe tbody tr th {\n",
              "        vertical-align: top;\n",
              "    }\n",
              "\n",
              "    .dataframe thead th {\n",
              "        text-align: right;\n",
              "    }\n",
              "</style>\n",
              "<table border=\"1\" class=\"dataframe\">\n",
              "  <thead>\n",
              "    <tr style=\"text-align: right;\">\n",
              "      <th></th>\n",
              "      <th>type</th>\n",
              "    </tr>\n",
              "  </thead>\n",
              "  <tbody>\n",
              "    <tr>\n",
              "      <th>0</th>\n",
              "      <td>0</td>\n",
              "    </tr>\n",
              "    <tr>\n",
              "      <th>1</th>\n",
              "      <td>1</td>\n",
              "    </tr>\n",
              "    <tr>\n",
              "      <th>2</th>\n",
              "      <td>1</td>\n",
              "    </tr>\n",
              "    <tr>\n",
              "      <th>3</th>\n",
              "      <td>0</td>\n",
              "    </tr>\n",
              "    <tr>\n",
              "      <th>4</th>\n",
              "      <td>1</td>\n",
              "    </tr>\n",
              "    <tr>\n",
              "      <th>...</th>\n",
              "      <td>...</td>\n",
              "    </tr>\n",
              "    <tr>\n",
              "      <th>393</th>\n",
              "      <td>1</td>\n",
              "    </tr>\n",
              "    <tr>\n",
              "      <th>394</th>\n",
              "      <td>0</td>\n",
              "    </tr>\n",
              "    <tr>\n",
              "      <th>395</th>\n",
              "      <td>0</td>\n",
              "    </tr>\n",
              "    <tr>\n",
              "      <th>396</th>\n",
              "      <td>1</td>\n",
              "    </tr>\n",
              "    <tr>\n",
              "      <th>397</th>\n",
              "      <td>0</td>\n",
              "    </tr>\n",
              "  </tbody>\n",
              "</table>\n",
              "<p>398 rows × 1 columns</p>\n",
              "</div><br><label><b>dtype:</b> int64</label>"
            ]
          },
          "metadata": {},
          "execution_count": 21
        }
      ]
    },
    {
      "cell_type": "markdown",
      "source": [
        "Type is the label that represents if an application is a malware or not, as we can see this dataset is balanced."
      ],
      "metadata": {
        "id": "j5LsMyOCjTD7"
      }
    },
    {
      "cell_type": "code",
      "source": [
        "dfFlip.type.value_counts()"
      ],
      "metadata": {
        "id": "L7Htf_Mxkx_5",
        "outputId": "c39dd6c0-f90a-478a-956e-b97afb191ed1",
        "colab": {
          "base_uri": "https://localhost:8080/",
          "height": 178
        }
      },
      "execution_count": 22,
      "outputs": [
        {
          "output_type": "execute_result",
          "data": {
            "text/plain": [
              "type\n",
              "0    200\n",
              "1    198\n",
              "Name: count, dtype: int64"
            ],
            "text/html": [
              "<div>\n",
              "<style scoped>\n",
              "    .dataframe tbody tr th:only-of-type {\n",
              "        vertical-align: middle;\n",
              "    }\n",
              "\n",
              "    .dataframe tbody tr th {\n",
              "        vertical-align: top;\n",
              "    }\n",
              "\n",
              "    .dataframe thead th {\n",
              "        text-align: right;\n",
              "    }\n",
              "</style>\n",
              "<table border=\"1\" class=\"dataframe\">\n",
              "  <thead>\n",
              "    <tr style=\"text-align: right;\">\n",
              "      <th></th>\n",
              "      <th>count</th>\n",
              "    </tr>\n",
              "    <tr>\n",
              "      <th>type</th>\n",
              "      <th></th>\n",
              "    </tr>\n",
              "  </thead>\n",
              "  <tbody>\n",
              "    <tr>\n",
              "      <th>0</th>\n",
              "      <td>200</td>\n",
              "    </tr>\n",
              "    <tr>\n",
              "      <th>1</th>\n",
              "      <td>198</td>\n",
              "    </tr>\n",
              "  </tbody>\n",
              "</table>\n",
              "</div><br><label><b>dtype:</b> int64</label>"
            ]
          },
          "metadata": {},
          "execution_count": 22
        }
      ]
    },
    {
      "cell_type": "code",
      "source": [
        "dfFlip.shape"
      ],
      "metadata": {
        "execution": {
          "iopub.status.busy": "2023-09-25T07:23:42.79059Z",
          "iopub.execute_input": "2023-09-25T07:23:42.790926Z",
          "iopub.status.idle": "2023-09-25T07:23:42.79699Z",
          "shell.execute_reply.started": "2023-09-25T07:23:42.79086Z",
          "shell.execute_reply": "2023-09-25T07:23:42.796094Z"
        },
        "trusted": true,
        "id": "EMwTr38bjTD7",
        "outputId": "6c1f6e25-2086-4706-d4ab-f8ea7eb900ea",
        "colab": {
          "base_uri": "https://localhost:8080/"
        }
      },
      "execution_count": 23,
      "outputs": [
        {
          "output_type": "execute_result",
          "data": {
            "text/plain": [
              "(398, 331)"
            ]
          },
          "metadata": {},
          "execution_count": 23
        }
      ]
    },
    {
      "cell_type": "markdown",
      "source": [
        "*Let's get the top 10 of permissions that are used for our malware samples*"
      ],
      "metadata": {
        "id": "CimlPCv7jTD7"
      }
    },
    {
      "cell_type": "markdown",
      "source": [
        "*Malicious*"
      ],
      "metadata": {
        "id": "knfWzY--jTD7"
      }
    },
    {
      "cell_type": "code",
      "source": [
        "pd.Series.sort_values(dfFlip[dfFlip.type==1].sum(axis=0), ascending=False)[1:11]"
      ],
      "metadata": {
        "execution": {
          "iopub.status.busy": "2023-09-25T07:23:42.799753Z",
          "iopub.execute_input": "2023-09-25T07:23:42.80029Z",
          "iopub.status.idle": "2023-09-25T07:23:42.812061Z",
          "shell.execute_reply.started": "2023-09-25T07:23:42.800239Z",
          "shell.execute_reply": "2023-09-25T07:23:42.811244Z"
        },
        "trusted": true,
        "id": "6RBD4r4CjTD7",
        "outputId": "fcb38cad-12a0-4e42-c47f-6b51efd33336",
        "colab": {
          "base_uri": "https://localhost:8080/",
          "height": 397
        }
      },
      "execution_count": 24,
      "outputs": [
        {
          "output_type": "execute_result",
          "data": {
            "text/plain": [
              "android.permission.INTERNET                  166\n",
              "android.permission.READ_PHONE_STATE          135\n",
              "android.permission.ACCESS_NETWORK_STATE      127\n",
              "android.permission.WRITE_EXTERNAL_STORAGE    116\n",
              "android.permission.ACCESS_WIFI_STATE         104\n",
              "android.permission.READ_SMS                   81\n",
              "android.permission.RECEIVE_BOOT_COMPLETED     77\n",
              "android.permission.WRITE_SMS                  68\n",
              "android.permission.WAKE_LOCK                  61\n",
              "android.permission.ACCESS_COARSE_LOCATION     59\n",
              "dtype: int64"
            ],
            "text/html": [
              "<div>\n",
              "<style scoped>\n",
              "    .dataframe tbody tr th:only-of-type {\n",
              "        vertical-align: middle;\n",
              "    }\n",
              "\n",
              "    .dataframe tbody tr th {\n",
              "        vertical-align: top;\n",
              "    }\n",
              "\n",
              "    .dataframe thead th {\n",
              "        text-align: right;\n",
              "    }\n",
              "</style>\n",
              "<table border=\"1\" class=\"dataframe\">\n",
              "  <thead>\n",
              "    <tr style=\"text-align: right;\">\n",
              "      <th></th>\n",
              "      <th>0</th>\n",
              "    </tr>\n",
              "  </thead>\n",
              "  <tbody>\n",
              "    <tr>\n",
              "      <th>android.permission.INTERNET</th>\n",
              "      <td>166</td>\n",
              "    </tr>\n",
              "    <tr>\n",
              "      <th>android.permission.READ_PHONE_STATE</th>\n",
              "      <td>135</td>\n",
              "    </tr>\n",
              "    <tr>\n",
              "      <th>android.permission.ACCESS_NETWORK_STATE</th>\n",
              "      <td>127</td>\n",
              "    </tr>\n",
              "    <tr>\n",
              "      <th>android.permission.WRITE_EXTERNAL_STORAGE</th>\n",
              "      <td>116</td>\n",
              "    </tr>\n",
              "    <tr>\n",
              "      <th>android.permission.ACCESS_WIFI_STATE</th>\n",
              "      <td>104</td>\n",
              "    </tr>\n",
              "    <tr>\n",
              "      <th>android.permission.READ_SMS</th>\n",
              "      <td>81</td>\n",
              "    </tr>\n",
              "    <tr>\n",
              "      <th>android.permission.RECEIVE_BOOT_COMPLETED</th>\n",
              "      <td>77</td>\n",
              "    </tr>\n",
              "    <tr>\n",
              "      <th>android.permission.WRITE_SMS</th>\n",
              "      <td>68</td>\n",
              "    </tr>\n",
              "    <tr>\n",
              "      <th>android.permission.WAKE_LOCK</th>\n",
              "      <td>61</td>\n",
              "    </tr>\n",
              "    <tr>\n",
              "      <th>android.permission.ACCESS_COARSE_LOCATION</th>\n",
              "      <td>59</td>\n",
              "    </tr>\n",
              "  </tbody>\n",
              "</table>\n",
              "</div><br><label><b>dtype:</b> int64</label>"
            ]
          },
          "metadata": {},
          "execution_count": 24
        }
      ]
    },
    {
      "cell_type": "markdown",
      "source": [
        "*Benign*"
      ],
      "metadata": {
        "id": "ZxbvhsIKjTD7"
      }
    },
    {
      "cell_type": "code",
      "source": [
        "pd.Series.sort_values(dfFlip[dfFlip.type==0].sum(axis=0), ascending=False)[:10]"
      ],
      "metadata": {
        "execution": {
          "iopub.status.busy": "2023-09-25T07:23:42.813664Z",
          "iopub.execute_input": "2023-09-25T07:23:42.814232Z",
          "iopub.status.idle": "2023-09-25T07:23:42.826202Z",
          "shell.execute_reply.started": "2023-09-25T07:23:42.814181Z",
          "shell.execute_reply": "2023-09-25T07:23:42.825413Z"
        },
        "trusted": true,
        "id": "KOLUvRcZjTD7",
        "outputId": "be4549b0-9d14-4a4c-adfe-eed613dfbc76",
        "colab": {
          "base_uri": "https://localhost:8080/",
          "height": 397
        }
      },
      "execution_count": 25,
      "outputs": [
        {
          "output_type": "execute_result",
          "data": {
            "text/plain": [
              "android.permission.INTERNET                  133\n",
              "android.permission.ACCESS_NETWORK_STATE      102\n",
              "android.permission.WRITE_EXTERNAL_STORAGE     96\n",
              "android.permission.READ_PHONE_STATE           79\n",
              "android.permission.ACCESS_WIFI_STATE          60\n",
              "android.permission.RECEIVE_BOOT_COMPLETED     55\n",
              "android.permission.READ_SMS                   47\n",
              "android.permission.WAKE_LOCK                  40\n",
              "android.permission.WRITE_SMS                  37\n",
              "android.permission.VIBRATE                    35\n",
              "dtype: int64"
            ],
            "text/html": [
              "<div>\n",
              "<style scoped>\n",
              "    .dataframe tbody tr th:only-of-type {\n",
              "        vertical-align: middle;\n",
              "    }\n",
              "\n",
              "    .dataframe tbody tr th {\n",
              "        vertical-align: top;\n",
              "    }\n",
              "\n",
              "    .dataframe thead th {\n",
              "        text-align: right;\n",
              "    }\n",
              "</style>\n",
              "<table border=\"1\" class=\"dataframe\">\n",
              "  <thead>\n",
              "    <tr style=\"text-align: right;\">\n",
              "      <th></th>\n",
              "      <th>0</th>\n",
              "    </tr>\n",
              "  </thead>\n",
              "  <tbody>\n",
              "    <tr>\n",
              "      <th>android.permission.INTERNET</th>\n",
              "      <td>133</td>\n",
              "    </tr>\n",
              "    <tr>\n",
              "      <th>android.permission.ACCESS_NETWORK_STATE</th>\n",
              "      <td>102</td>\n",
              "    </tr>\n",
              "    <tr>\n",
              "      <th>android.permission.WRITE_EXTERNAL_STORAGE</th>\n",
              "      <td>96</td>\n",
              "    </tr>\n",
              "    <tr>\n",
              "      <th>android.permission.READ_PHONE_STATE</th>\n",
              "      <td>79</td>\n",
              "    </tr>\n",
              "    <tr>\n",
              "      <th>android.permission.ACCESS_WIFI_STATE</th>\n",
              "      <td>60</td>\n",
              "    </tr>\n",
              "    <tr>\n",
              "      <th>android.permission.RECEIVE_BOOT_COMPLETED</th>\n",
              "      <td>55</td>\n",
              "    </tr>\n",
              "    <tr>\n",
              "      <th>android.permission.READ_SMS</th>\n",
              "      <td>47</td>\n",
              "    </tr>\n",
              "    <tr>\n",
              "      <th>android.permission.WAKE_LOCK</th>\n",
              "      <td>40</td>\n",
              "    </tr>\n",
              "    <tr>\n",
              "      <th>android.permission.WRITE_SMS</th>\n",
              "      <td>37</td>\n",
              "    </tr>\n",
              "    <tr>\n",
              "      <th>android.permission.VIBRATE</th>\n",
              "      <td>35</td>\n",
              "    </tr>\n",
              "  </tbody>\n",
              "</table>\n",
              "</div><br><label><b>dtype:</b> int64</label>"
            ]
          },
          "metadata": {},
          "execution_count": 25
        }
      ]
    },
    {
      "cell_type": "code",
      "source": [
        "import matplotlib.pyplot as plt\n",
        "fig, axs =  plt.subplots(nrows=2, sharex=True)\n",
        "\n",
        "pd.Series.sort_values(dfFlip[dfFlip.type==0].sum(axis=0), ascending=False)[:10].plot.bar(ax=axs[0])\n",
        "pd.Series.sort_values(dfFlip[dfFlip.type==1].sum(axis=0), ascending=False)[1:11].plot.bar(ax=axs[1], color=\"red\")"
      ],
      "metadata": {
        "execution": {
          "iopub.status.busy": "2023-09-25T07:23:42.827745Z",
          "iopub.execute_input": "2023-09-25T07:23:42.828642Z",
          "iopub.status.idle": "2023-09-25T07:23:43.339115Z",
          "shell.execute_reply.started": "2023-09-25T07:23:42.828564Z",
          "shell.execute_reply": "2023-09-25T07:23:43.338142Z"
        },
        "trusted": true,
        "id": "qab-R7XgjTD8",
        "outputId": "34f8e018-c893-4fd1-ed53-6d3768f51a89",
        "colab": {
          "base_uri": "https://localhost:8080/",
          "height": 768
        }
      },
      "execution_count": 26,
      "outputs": [
        {
          "output_type": "execute_result",
          "data": {
            "text/plain": [
              "<Axes: >"
            ]
          },
          "metadata": {},
          "execution_count": 26
        },
        {
          "output_type": "display_data",
          "data": {
            "text/plain": [
              "<Figure size 640x480 with 2 Axes>"
            ],
            "image/png": "[encoded data removed]"
          },
          "metadata": {}
        }
      ]
    },
    {
      "cell_type": "markdown",
      "source": [
        "The last outputs allow us to get insights about a difference between the permissions used by the malware and the benign applications."
      ],
      "metadata": {
        "id": "tNvpJw1NjTD8"
      }
    },
    {
      "cell_type": "code",
      "source": [],
      "metadata": {
        "id": "sTdT7avaARnr"
      },
      "execution_count": 26,
      "outputs": []
    },
    {
      "cell_type": "markdown",
      "source": [
        "### Modeling"
      ],
      "metadata": {
        "id": "1JpCv82sjTD8"
      }
    },
    {
      "cell_type": "code",
      "source": [
        "X_train, X_test, y_train, y_test = train_test_split(dfFlip.iloc[:, 1:330], dfFlip['type'], test_size=0.20, random_state=42)"
      ],
      "metadata": {
        "execution": {
          "iopub.status.busy": "2023-09-25T07:23:43.340756Z",
          "iopub.execute_input": "2023-09-25T07:23:43.341101Z",
          "iopub.status.idle": "2023-09-25T07:23:43.353407Z",
          "shell.execute_reply.started": "2023-09-25T07:23:43.341035Z",
          "shell.execute_reply": "2023-09-25T07:23:43.352561Z"
        },
        "trusted": true,
        "id": "4vrvgs4pjTD8"
      },
      "execution_count": 27,
      "outputs": []
    },
    {
      "cell_type": "markdown",
      "source": [
        "*Naive Bayes algorithm*"
      ],
      "metadata": {
        "id": "cUqMmwSMjTD8"
      }
    },
    {
      "cell_type": "code",
      "source": [
        "# Naive Bayes algorithm\n",
        "gnb = GaussianNB()\n",
        "gnb.fit(X_train, y_train)\n",
        "\n",
        "# pred\n",
        "pred = gnb.predict(X_test)\n",
        "\n",
        "# accuracy\n",
        "accuracy = accuracy_score(pred, y_test)\n",
        "print(\"naive_bayes\")\n",
        "print(accuracy)\n",
        "print(classification_report(pred, y_test, labels=None))"
      ],
      "metadata": {
        "execution": {
          "iopub.status.busy": "2023-09-25T07:23:43.354729Z",
          "iopub.execute_input": "2023-09-25T07:23:43.355044Z",
          "iopub.status.idle": "2023-09-25T07:23:43.374122Z",
          "shell.execute_reply.started": "2023-09-25T07:23:43.35497Z",
          "shell.execute_reply": "2023-09-25T07:23:43.373351Z"
        },
        "trusted": true,
        "id": "xkS4rrv3jTD8",
        "outputId": "8ad56871-145a-40b0-ae16-03f97918bf2f",
        "colab": {
          "base_uri": "https://localhost:8080/"
        }
      },
      "execution_count": 28,
      "outputs": [
        {
          "output_type": "stream",
          "name": "stdout",
          "text": [
            "naive_bayes\n",
            "0.475\n",
            "              precision    recall  f1-score   support\n",
            "\n",
            "           0       0.07      0.43      0.12         7\n",
            "           1       0.90      0.48      0.62        73\n",
            "\n",
            "    accuracy                           0.47        80\n",
            "   macro avg       0.49      0.45      0.38        80\n",
            "weighted avg       0.83      0.47      0.58        80\n",
            "\n"
          ]
        }
      ]
    },
    {
      "cell_type": "markdown",
      "source": [
        "*kneighbors algorithm*"
      ],
      "metadata": {
        "id": "5HG0kn2mjTD8"
      }
    },
    {
      "cell_type": "code",
      "source": [
        "# kneighbors algorithm\n",
        "\n",
        "for i in range(3,15,3):\n",
        "\n",
        "    neigh = KNeighborsClassifier(n_neighbors=i)\n",
        "    neigh.fit(X_train, y_train)\n",
        "    pred = neigh.predict(X_test)\n",
        "    # accuracy\n",
        "    accuracy = accuracy_score(pred, y_test)\n",
        "    print(\"kneighbors {}\".format(i))\n",
        "    print(accuracy)\n",
        "    print(classification_report(pred, y_test, labels=None))\n",
        "    print(\"\")"
      ],
      "metadata": {
        "execution": {
          "iopub.status.busy": "2023-09-25T07:23:43.37541Z",
          "iopub.execute_input": "2023-09-25T07:23:43.375906Z",
          "iopub.status.idle": "2023-09-25T07:23:43.488266Z",
          "shell.execute_reply.started": "2023-09-25T07:23:43.375851Z",
          "shell.execute_reply": "2023-09-25T07:23:43.486888Z"
        },
        "trusted": true,
        "id": "9AyqphwVjTD8",
        "outputId": "34462901-10a1-44d7-c964-440167ad8584",
        "colab": {
          "base_uri": "https://localhost:8080/"
        }
      },
      "execution_count": 16,
      "outputs": [
        {
          "output_type": "stream",
          "name": "stdout",
          "text": [
            "kneighbors 3\n",
            "0.8875\n",
            "              precision    recall  f1-score   support\n",
            "\n",
            "           0       0.85      0.95      0.90        41\n",
            "           1       0.94      0.82      0.88        39\n",
            "\n",
            "    accuracy                           0.89        80\n",
            "   macro avg       0.89      0.89      0.89        80\n",
            "weighted avg       0.89      0.89      0.89        80\n",
            "\n",
            "\n",
            "kneighbors 6\n",
            "0.875\n",
            "              precision    recall  f1-score   support\n",
            "\n",
            "           0       0.83      0.95      0.88        40\n",
            "           1       0.94      0.80      0.86        40\n",
            "\n",
            "    accuracy                           0.88        80\n",
            "   macro avg       0.88      0.88      0.87        80\n",
            "weighted avg       0.88      0.88      0.87        80\n",
            "\n",
            "\n",
            "kneighbors 9\n",
            "0.8625\n",
            "              precision    recall  f1-score   support\n",
            "\n",
            "           0       0.80      0.95      0.87        39\n",
            "           1       0.94      0.78      0.85        41\n",
            "\n",
            "    accuracy                           0.86        80\n",
            "   macro avg       0.87      0.86      0.86        80\n",
            "weighted avg       0.87      0.86      0.86        80\n",
            "\n",
            "\n",
            "kneighbors 12\n",
            "0.8625\n",
            "              precision    recall  f1-score   support\n",
            "\n",
            "           0       0.80      0.95      0.87        39\n",
            "           1       0.94      0.78      0.85        41\n",
            "\n",
            "    accuracy                           0.86        80\n",
            "   macro avg       0.87      0.86      0.86        80\n",
            "weighted avg       0.87      0.86      0.86        80\n",
            "\n",
            "\n"
          ]
        }
      ]
    },
    {
      "cell_type": "markdown",
      "source": [
        "*Decision Tree*"
      ],
      "metadata": {
        "id": "Kz00VzFtjTD8"
      }
    },
    {
      "cell_type": "code",
      "source": [
        "clf = tree.DecisionTreeClassifier()\n",
        "clf.fit(X_train, y_train)\n",
        "\n",
        "# Read the csv test file\n",
        "\n",
        "pred = clf.predict(X_test)\n",
        "# accuracy\n",
        "accuracy = accuracy_score(pred, y_test)\n",
        "print(clf)\n",
        "print(accuracy)\n",
        "print(classification_report(pred, y_test, labels=None))"
      ],
      "metadata": {
        "execution": {
          "iopub.status.busy": "2023-09-25T07:23:43.492053Z",
          "iopub.execute_input": "2023-09-25T07:23:43.492327Z",
          "iopub.status.idle": "2023-09-25T07:23:43.510161Z",
          "shell.execute_reply.started": "2023-09-25T07:23:43.492276Z",
          "shell.execute_reply": "2023-09-25T07:23:43.509398Z"
        },
        "trusted": true,
        "id": "YZMRivMjjTD8",
        "outputId": "9b743eb6-c75e-4c98-e3c7-f525a33b5bcc",
        "colab": {
          "base_uri": "https://localhost:8080/"
        }
      },
      "execution_count": 17,
      "outputs": [
        {
          "output_type": "stream",
          "name": "stdout",
          "text": [
            "DecisionTreeClassifier()\n",
            "0.95\n",
            "              precision    recall  f1-score   support\n",
            "\n",
            "           0       0.93      0.98      0.96        44\n",
            "           1       0.97      0.92      0.94        36\n",
            "\n",
            "    accuracy                           0.95        80\n",
            "   macro avg       0.95      0.95      0.95        80\n",
            "weighted avg       0.95      0.95      0.95        80\n",
            "\n"
          ]
        }
      ]
    },
    {
      "cell_type": "markdown",
      "source": [
        "Through the last results we can see how we trained different classifiers to detect malware using its permissions, but as I said this is only a first approximation, I didn't analyze the hyperparameters and others things to improve the results."
      ],
      "metadata": {
        "id": "KHT_uH1BjTD8"
      }
    },
    {
      "cell_type": "markdown",
      "source": [
        "# Dynamic Analysis"
      ],
      "metadata": {
        "id": "IzdzJqT2jTD8"
      }
    },
    {
      "cell_type": "code",
      "source": [
        "import pandas as pd\n",
        "data = pd.read_csv(\"../input/network-traffic-android-malware/android_traffic.csv\", sep=\";\")\n",
        "data.head()"
      ],
      "metadata": {
        "execution": {
          "iopub.status.busy": "2023-09-25T07:23:43.511881Z",
          "iopub.execute_input": "2023-09-25T07:23:43.512422Z",
          "iopub.status.idle": "2023-09-25T07:23:43.549559Z",
          "shell.execute_reply.started": "2023-09-25T07:23:43.512365Z",
          "shell.execute_reply": "2023-09-25T07:23:43.548742Z"
        },
        "trusted": true,
        "id": "wl4t9LqsjTD8",
        "colab": {
          "base_uri": "https://localhost:8080/",
          "height": 356
        },
        "outputId": "2831b9b5-6444-4b9b-d4b3-2ca8e2dabb8b"
      },
      "execution_count": 18,
      "outputs": [
        {
          "output_type": "error",
          "ename": "FileNotFoundError",
          "evalue": "[Errno 2] No such file or directory: '../input/network-traffic-android-malware/android_traffic.csv'",
          "traceback": [
            "\u001b[0;31m---------------------------------------------------------------------------\u001b[0m",
            "\u001b[0;31mFileNotFoundError\u001b[0m                         Traceback (most recent call last)",
            "\u001b[0;32m<ipython-input-18-127c022ccf9c>\u001b[0m in \u001b[0;36m<cell line: 2>\u001b[0;34m()\u001b[0m\n\u001b[1;32m      1\u001b[0m \u001b[0;32mimport\u001b[0m \u001b[0mpandas\u001b[0m \u001b[0;32mas\u001b[0m \u001b[0mpd\u001b[0m\u001b[0;34m\u001b[0m\u001b[0;34m\u001b[0m\u001b[0m\n\u001b[0;32m----> 2\u001b[0;31m \u001b[0mdata\u001b[0m \u001b[0;34m=\u001b[0m \u001b[0mpd\u001b[0m\u001b[0;34m.\u001b[0m\u001b[0mread_csv\u001b[0m\u001b[0;34m(\u001b[0m\u001b[0;34m\"../input/network-traffic-android-malware/android_traffic.csv\"\u001b[0m\u001b[0;34m,\u001b[0m \u001b[0msep\u001b[0m\u001b[0;34m=\u001b[0m\u001b[0;34m\";\"\u001b[0m\u001b[0;34m)\u001b[0m\u001b[0;34m\u001b[0m\u001b[0;34m\u001b[0m\u001b[0m\n\u001b[0m\u001b[1;32m      3\u001b[0m \u001b[0mdata\u001b[0m\u001b[0;34m.\u001b[0m\u001b[0mhead\u001b[0m\u001b[0;34m(\u001b[0m\u001b[0;34m)\u001b[0m\u001b[0;34m\u001b[0m\u001b[0;34m\u001b[0m\u001b[0m\n",
            "\u001b[0;32m/usr/local/lib/python3.10/dist-packages/pandas/io/parsers/readers.py\u001b[0m in \u001b[0;36mread_csv\u001b[0;34m(filepath_or_buffer, sep, delimiter, header, names, index_col, usecols, dtype, engine, converters, true_values, false_values, skipinitialspace, skiprows, skipfooter, nrows, na_values, keep_default_na, na_filter, verbose, skip_blank_lines, parse_dates, infer_datetime_format, keep_date_col, date_parser, date_format, dayfirst, cache_dates, iterator, chunksize, compression, thousands, decimal, lineterminator, quotechar, quoting, doublequote, escapechar, comment, encoding, encoding_errors, dialect, on_bad_lines, delim_whitespace, low_memory, memory_map, float_precision, storage_options, dtype_backend)\u001b[0m\n\u001b[1;32m   1024\u001b[0m     \u001b[0mkwds\u001b[0m\u001b[0;34m.\u001b[0m\u001b[0mupdate\u001b[0m\u001b[0;34m(\u001b[0m\u001b[0mkwds_defaults\u001b[0m\u001b[0;34m)\u001b[0m\u001b[0;34m\u001b[0m\u001b[0;34m\u001b[0m\u001b[0m\n\u001b[1;32m   1025\u001b[0m \u001b[0;34m\u001b[0m\u001b[0m\n\u001b[0;32m-> 1026\u001b[0;31m     \u001b[0;32mreturn\u001b[0m \u001b[0m_read\u001b[0m\u001b[0;34m(\u001b[0m\u001b[0mfilepath_or_buffer\u001b[0m\u001b[0;34m,\u001b[0m \u001b[0mkwds\u001b[0m\u001b[0;34m)\u001b[0m\u001b[0;34m\u001b[0m\u001b[0;34m\u001b[0m\u001b[0m\n\u001b[0m\u001b[1;32m   1027\u001b[0m \u001b[0;34m\u001b[0m\u001b[0m\n\u001b[1;32m   1028\u001b[0m \u001b[0;34m\u001b[0m\u001b[0m\n",
            "\u001b[0;32m/usr/local/lib/python3.10/dist-packages/pandas/io/parsers/readers.py\u001b[0m in \u001b[0;36m_read\u001b[0;34m(filepath_or_buffer, kwds)\u001b[0m\n\u001b[1;32m    618\u001b[0m \u001b[0;34m\u001b[0m\u001b[0m\n\u001b[1;32m    619\u001b[0m     \u001b[0;31m# Create the parser.\u001b[0m\u001b[0;34m\u001b[0m\u001b[0;34m\u001b[0m\u001b[0m\n\u001b[0;32m--> 620\u001b[0;31m     \u001b[0mparser\u001b[0m \u001b[0;34m=\u001b[0m \u001b[0mTextFileReader\u001b[0m\u001b[0;34m(\u001b[0m\u001b[0mfilepath_or_buffer\u001b[0m\u001b[0;34m,\u001b[0m \u001b[0;34m**\u001b[0m\u001b[0mkwds\u001b[0m\u001b[0;34m)\u001b[0m\u001b[0;34m\u001b[0m\u001b[0;34m\u001b[0m\u001b[0m\n\u001b[0m\u001b[1;32m    621\u001b[0m \u001b[0;34m\u001b[0m\u001b[0m\n\u001b[1;32m    622\u001b[0m     \u001b[0;32mif\u001b[0m \u001b[0mchunksize\u001b[0m \u001b[0;32mor\u001b[0m \u001b[0miterator\u001b[0m\u001b[0;34m:\u001b[0m\u001b[0;34m\u001b[0m\u001b[0;34m\u001b[0m\u001b[0m\n",
            "\u001b[0;32m/usr/local/lib/python3.10/dist-packages/pandas/io/parsers/readers.py\u001b[0m in \u001b[0;36m__init__\u001b[0;34m(self, f, engine, **kwds)\u001b[0m\n\u001b[1;32m   1618\u001b[0m \u001b[0;34m\u001b[0m\u001b[0m\n\u001b[1;32m   1619\u001b[0m         \u001b[0mself\u001b[0m\u001b[0;34m.\u001b[0m\u001b[0mhandles\u001b[0m\u001b[0;34m:\u001b[0m \u001b[0mIOHandles\u001b[0m \u001b[0;34m|\u001b[0m \u001b[0;32mNone\u001b[0m \u001b[0;34m=\u001b[0m \u001b[0;32mNone\u001b[0m\u001b[0;34m\u001b[0m\u001b[0;34m\u001b[0m\u001b[0m\n\u001b[0;32m-> 1620\u001b[0;31m         \u001b[0mself\u001b[0m\u001b[0;34m.\u001b[0m\u001b[0m_engine\u001b[0m \u001b[0;34m=\u001b[0m \u001b[0mself\u001b[0m\u001b[0;34m.\u001b[0m\u001b[0m_make_engine\u001b[0m\u001b[0;34m(\u001b[0m\u001b[0mf\u001b[0m\u001b[0;34m,\u001b[0m \u001b[0mself\u001b[0m\u001b[0;34m.\u001b[0m\u001b[0mengine\u001b[0m\u001b[0;34m)\u001b[0m\u001b[0;34m\u001b[0m\u001b[0;34m\u001b[0m\u001b[0m\n\u001b[0m\u001b[1;32m   1621\u001b[0m \u001b[0;34m\u001b[0m\u001b[0m\n\u001b[1;32m   1622\u001b[0m     \u001b[0;32mdef\u001b[0m \u001b[0mclose\u001b[0m\u001b[0;34m(\u001b[0m\u001b[0mself\u001b[0m\u001b[0;34m)\u001b[0m \u001b[0;34m->\u001b[0m \u001b[0;32mNone\u001b[0m\u001b[0;34m:\u001b[0m\u001b[0;34m\u001b[0m\u001b[0;34m\u001b[0m\u001b[0m\n",
            "\u001b[0;32m/usr/local/lib/python3.10/dist-packages/pandas/io/parsers/readers.py\u001b[0m in \u001b[0;36m_make_engine\u001b[0;34m(self, f, engine)\u001b[0m\n\u001b[1;32m   1878\u001b[0m                 \u001b[0;32mif\u001b[0m \u001b[0;34m\"b\"\u001b[0m \u001b[0;32mnot\u001b[0m \u001b[0;32min\u001b[0m \u001b[0mmode\u001b[0m\u001b[0;34m:\u001b[0m\u001b[0;34m\u001b[0m\u001b[0;34m\u001b[0m\u001b[0m\n\u001b[1;32m   1879\u001b[0m                     \u001b[0mmode\u001b[0m \u001b[0;34m+=\u001b[0m \u001b[0;34m\"b\"\u001b[0m\u001b[0;34m\u001b[0m\u001b[0;34m\u001b[0m\u001b[0m\n\u001b[0;32m-> 1880\u001b[0;31m             self.handles = get_handle(\n\u001b[0m\u001b[1;32m   1881\u001b[0m                 \u001b[0mf\u001b[0m\u001b[0;34m,\u001b[0m\u001b[0;34m\u001b[0m\u001b[0;34m\u001b[0m\u001b[0m\n\u001b[1;32m   1882\u001b[0m                 \u001b[0mmode\u001b[0m\u001b[0;34m,\u001b[0m\u001b[0;34m\u001b[0m\u001b[0;34m\u001b[0m\u001b[0m\n",
            "\u001b[0;32m/usr/local/lib/python3.10/dist-packages/pandas/io/common.py\u001b[0m in \u001b[0;36mget_handle\u001b[0;34m(path_or_buf, mode, encoding, compression, memory_map, is_text, errors, storage_options)\u001b[0m\n\u001b[1;32m    871\u001b[0m         \u001b[0;32mif\u001b[0m \u001b[0mioargs\u001b[0m\u001b[0;34m.\u001b[0m\u001b[0mencoding\u001b[0m \u001b[0;32mand\u001b[0m \u001b[0;34m\"b\"\u001b[0m \u001b[0;32mnot\u001b[0m \u001b[0;32min\u001b[0m \u001b[0mioargs\u001b[0m\u001b[0;34m.\u001b[0m\u001b[0mmode\u001b[0m\u001b[0;34m:\u001b[0m\u001b[0;34m\u001b[0m\u001b[0;34m\u001b[0m\u001b[0m\n\u001b[1;32m    872\u001b[0m             \u001b[0;31m# Encoding\u001b[0m\u001b[0;34m\u001b[0m\u001b[0;34m\u001b[0m\u001b[0m\n\u001b[0;32m--> 873\u001b[0;31m             handle = open(\n\u001b[0m\u001b[1;32m    874\u001b[0m                 \u001b[0mhandle\u001b[0m\u001b[0;34m,\u001b[0m\u001b[0;34m\u001b[0m\u001b[0;34m\u001b[0m\u001b[0m\n\u001b[1;32m    875\u001b[0m                 \u001b[0mioargs\u001b[0m\u001b[0;34m.\u001b[0m\u001b[0mmode\u001b[0m\u001b[0;34m,\u001b[0m\u001b[0;34m\u001b[0m\u001b[0;34m\u001b[0m\u001b[0m\n",
            "\u001b[0;31mFileNotFoundError\u001b[0m: [Errno 2] No such file or directory: '../input/network-traffic-android-malware/android_traffic.csv'"
          ]
        }
      ]
    },
    {
      "cell_type": "code",
      "source": [
        "data.columns"
      ],
      "metadata": {
        "execution": {
          "iopub.status.busy": "2023-09-25T07:23:43.551239Z",
          "iopub.execute_input": "2023-09-25T07:23:43.551685Z",
          "iopub.status.idle": "2023-09-25T07:23:43.557947Z",
          "shell.execute_reply.started": "2023-09-25T07:23:43.5515Z",
          "shell.execute_reply": "2023-09-25T07:23:43.557163Z"
        },
        "trusted": true,
        "id": "t4VCSgmojTD8"
      },
      "execution_count": null,
      "outputs": []
    },
    {
      "cell_type": "code",
      "source": [
        "data.shape"
      ],
      "metadata": {
        "execution": {
          "iopub.status.busy": "2023-09-25T07:23:43.559274Z",
          "iopub.execute_input": "2023-09-25T07:23:43.55979Z",
          "iopub.status.idle": "2023-09-25T07:23:43.568705Z",
          "shell.execute_reply.started": "2023-09-25T07:23:43.559737Z",
          "shell.execute_reply": "2023-09-25T07:23:43.567955Z"
        },
        "trusted": true,
        "id": "ZZ9xgKNqjTD8"
      },
      "execution_count": null,
      "outputs": []
    },
    {
      "cell_type": "code",
      "source": [
        "data.type.value_counts()"
      ],
      "metadata": {
        "execution": {
          "iopub.status.busy": "2023-09-25T07:23:43.570051Z",
          "iopub.execute_input": "2023-09-25T07:23:43.570584Z",
          "iopub.status.idle": "2023-09-25T07:23:43.586046Z",
          "shell.execute_reply.started": "2023-09-25T07:23:43.570525Z",
          "shell.execute_reply": "2023-09-25T07:23:43.585308Z"
        },
        "trusted": true,
        "id": "WELpL95YjTD8"
      },
      "execution_count": null,
      "outputs": []
    },
    {
      "cell_type": "markdown",
      "source": [
        "In this case, we have an unbalanced dataset, so another model evaluation will be used."
      ],
      "metadata": {
        "id": "ixaM5gaSjTD8"
      }
    },
    {
      "cell_type": "markdown",
      "source": [
        "### Data Cleaning and Processing"
      ],
      "metadata": {
        "id": "7N8YwwoDjTD8"
      }
    },
    {
      "cell_type": "code",
      "source": [
        "data.isna().sum()"
      ],
      "metadata": {
        "execution": {
          "iopub.status.busy": "2023-09-25T07:23:43.589557Z",
          "iopub.execute_input": "2023-09-25T07:23:43.589801Z",
          "iopub.status.idle": "2023-09-25T07:23:43.602026Z",
          "shell.execute_reply.started": "2023-09-25T07:23:43.589755Z",
          "shell.execute_reply": "2023-09-25T07:23:43.601133Z"
        },
        "trusted": true,
        "id": "Ci-nR3-OjTD8"
      },
      "execution_count": null,
      "outputs": []
    },
    {
      "cell_type": "code",
      "source": [
        "data = data.drop(['duracion','avg_local_pkt_rate','avg_remote_pkt_rate'], axis=1).copy()"
      ],
      "metadata": {
        "execution": {
          "iopub.status.busy": "2023-09-25T07:23:43.603522Z",
          "iopub.execute_input": "2023-09-25T07:23:43.60409Z",
          "iopub.status.idle": "2023-09-25T07:23:43.61234Z",
          "shell.execute_reply.started": "2023-09-25T07:23:43.603871Z",
          "shell.execute_reply": "2023-09-25T07:23:43.611613Z"
        },
        "trusted": true,
        "id": "U3Sy4ebMjTD8"
      },
      "execution_count": null,
      "outputs": []
    },
    {
      "cell_type": "code",
      "source": [
        "data.describe()"
      ],
      "metadata": {
        "execution": {
          "iopub.status.busy": "2023-09-25T07:23:43.614008Z",
          "iopub.execute_input": "2023-09-25T07:23:43.614477Z",
          "iopub.status.idle": "2023-09-25T07:23:43.672025Z",
          "shell.execute_reply.started": "2023-09-25T07:23:43.614277Z",
          "shell.execute_reply": "2023-09-25T07:23:43.671202Z"
        },
        "trusted": true,
        "id": "HtC0wNShjTD8"
      },
      "execution_count": null,
      "outputs": []
    },
    {
      "cell_type": "markdown",
      "source": [
        "Now, the idea is to see the outliers in the data"
      ],
      "metadata": {
        "id": "IwUzqYiXjTD8"
      }
    },
    {
      "cell_type": "code",
      "source": [
        "sns.boxplot(data.tcp_urg_packet)"
      ],
      "metadata": {
        "execution": {
          "iopub.status.busy": "2023-09-25T07:23:43.673822Z",
          "iopub.execute_input": "2023-09-25T07:23:43.674299Z",
          "iopub.status.idle": "2023-09-25T07:23:43.799971Z",
          "shell.execute_reply.started": "2023-09-25T07:23:43.67411Z",
          "shell.execute_reply": "2023-09-25T07:23:43.79891Z"
        },
        "trusted": true,
        "id": "moawJH0mjTD8"
      },
      "execution_count": null,
      "outputs": []
    },
    {
      "cell_type": "code",
      "source": [
        "data.loc[data.tcp_urg_packet > 0].shape[0]"
      ],
      "metadata": {
        "execution": {
          "iopub.status.busy": "2023-09-25T07:23:43.801414Z",
          "iopub.execute_input": "2023-09-25T07:23:43.801879Z",
          "iopub.status.idle": "2023-09-25T07:23:43.809775Z",
          "shell.execute_reply.started": "2023-09-25T07:23:43.801688Z",
          "shell.execute_reply": "2023-09-25T07:23:43.808929Z"
        },
        "trusted": true,
        "id": "JdeoQ2gBjTD8"
      },
      "execution_count": null,
      "outputs": []
    },
    {
      "cell_type": "markdown",
      "source": [
        "That column will be no used for the analysis, only two rows are different to zero, maybe they are interesting for future analysis."
      ],
      "metadata": {
        "id": "hDpbkOZsjTD8"
      }
    },
    {
      "cell_type": "code",
      "source": [
        "data = data.drop(columns=[\"tcp_urg_packet\"], axis=1).copy()\n",
        "data.shape"
      ],
      "metadata": {
        "execution": {
          "iopub.status.busy": "2023-09-25T07:23:43.811129Z",
          "iopub.execute_input": "2023-09-25T07:23:43.811621Z",
          "iopub.status.idle": "2023-09-25T07:23:43.82469Z",
          "shell.execute_reply.started": "2023-09-25T07:23:43.811567Z",
          "shell.execute_reply": "2023-09-25T07:23:43.823587Z"
        },
        "trusted": true,
        "id": "8Ba7SJSljTD_"
      },
      "execution_count": null,
      "outputs": []
    },
    {
      "cell_type": "code",
      "source": [
        "sns.pairplot(data)"
      ],
      "metadata": {
        "execution": {
          "iopub.status.busy": "2023-09-25T07:23:43.826203Z",
          "iopub.execute_input": "2023-09-25T07:23:43.826532Z",
          "iopub.status.idle": "2023-09-25T07:24:11.585619Z",
          "shell.execute_reply.started": "2023-09-25T07:23:43.826468Z",
          "shell.execute_reply": "2023-09-25T07:24:11.58489Z"
        },
        "trusted": true,
        "id": "h9mVOeSpjTD_"
      },
      "execution_count": null,
      "outputs": []
    },
    {
      "cell_type": "markdown",
      "source": [
        "We have many outliers in some features, I will omit the depth analysis and only get the set of the data without the noise."
      ],
      "metadata": {
        "id": "hgED2V4AjTD_"
      }
    },
    {
      "cell_type": "code",
      "source": [
        "data=data[data.tcp_packets<20000].copy()\n",
        "data=data[data.dist_port_tcp<1400].copy()\n",
        "data=data[data.external_ips<35].copy()\n",
        "data=data[data.vulume_bytes<2000000].copy()\n",
        "data=data[data.udp_packets<40].copy()\n",
        "data=data[data.remote_app_packets<15000].copy()"
      ],
      "metadata": {
        "execution": {
          "iopub.status.busy": "2023-09-25T07:24:11.587029Z",
          "iopub.execute_input": "2023-09-25T07:24:11.5875Z",
          "iopub.status.idle": "2023-09-25T07:24:11.610156Z",
          "shell.execute_reply.started": "2023-09-25T07:24:11.587446Z",
          "shell.execute_reply": "2023-09-25T07:24:11.609382Z"
        },
        "trusted": true,
        "id": "wwQqucLujTD_"
      },
      "execution_count": null,
      "outputs": []
    },
    {
      "cell_type": "code",
      "source": [
        "data[data.duplicated()].sum()"
      ],
      "metadata": {
        "execution": {
          "iopub.status.busy": "2023-09-25T07:24:11.611745Z",
          "iopub.execute_input": "2023-09-25T07:24:11.612228Z",
          "iopub.status.idle": "2023-09-25T07:24:11.636108Z",
          "shell.execute_reply.started": "2023-09-25T07:24:11.612044Z",
          "shell.execute_reply": "2023-09-25T07:24:11.635357Z"
        },
        "trusted": true,
        "id": "vsz0nvhkjTD_"
      },
      "execution_count": null,
      "outputs": []
    },
    {
      "cell_type": "code",
      "source": [
        "data=data.drop('source_app_packets.1',axis=1).copy()"
      ],
      "metadata": {
        "execution": {
          "iopub.status.busy": "2023-09-25T07:24:11.637492Z",
          "iopub.execute_input": "2023-09-25T07:24:11.638046Z",
          "iopub.status.idle": "2023-09-25T07:24:11.644803Z",
          "shell.execute_reply.started": "2023-09-25T07:24:11.637995Z",
          "shell.execute_reply": "2023-09-25T07:24:11.64426Z"
        },
        "trusted": true,
        "id": "9fQXPszejTD_"
      },
      "execution_count": null,
      "outputs": []
    },
    {
      "cell_type": "code",
      "source": [
        "scaler = preprocessing.RobustScaler()\n",
        "scaledData = scaler.fit_transform(data.iloc[:,1:11])\n",
        "scaledData = pd.DataFrame(scaledData, columns=['tcp_packets','dist_port_tcp','external_ips','vulume_bytes','udp_packets','source_app_packets','remote_app_packets',' source_app_bytes','remote_app_bytes','dns_query_times'])"
      ],
      "metadata": {
        "execution": {
          "iopub.status.busy": "2023-09-25T07:24:11.646357Z",
          "iopub.execute_input": "2023-09-25T07:24:11.646975Z",
          "iopub.status.idle": "2023-09-25T07:24:11.662564Z",
          "shell.execute_reply.started": "2023-09-25T07:24:11.64692Z",
          "shell.execute_reply": "2023-09-25T07:24:11.662037Z"
        },
        "trusted": true,
        "id": "j8bZyGPujTD_"
      },
      "execution_count": null,
      "outputs": []
    },
    {
      "cell_type": "markdown",
      "source": [
        "From [6] we concluded that the best network features are:\n",
        "\n",
        "+ (R1): TCP packets, it has the number of packets TCP sent and got during communication.\n",
        "+ (R2): Different TCP packets, it is the total number of packets different from TCP.\n",
        "+ (R3): External IP, represents the number the external addresses (IPs) where the application tried to communicated\n",
        "+ (R4): Volume of bytes, it is the number of bytes that was sent from the application to the external sites\n",
        "+ (R5) UDP packets, the total number of packets UDP transmitted in a communication.\n",
        "+ (R6) Packets of the source application, it is the number of packets that were sent from the application to a remote server.\n",
        "+ (R7) Remote application packages, number of packages received from external sources.\n",
        "+ (R8) Bytes of the application source, this is the volume (in Bytes) of the communication between the application and server.\n",
        "+ (R9) Bytes of the application remote, this is the volume (in Bytes) of the data from the server to the emulator.\n",
        "+ (R10) DNS queries, number of DNS queries.\n"
      ],
      "metadata": {
        "id": "acetQ2SBjTD_"
      }
    },
    {
      "cell_type": "markdown",
      "source": [
        "### Modeling"
      ],
      "metadata": {
        "id": "ZldxhvUOjTD_"
      }
    },
    {
      "cell_type": "code",
      "source": [
        "X_train, X_test, y_train, y_test = train_test_split(scaledData.iloc[:,0:10], data.type.astype(\"str\"), test_size=0.25, random_state=45)"
      ],
      "metadata": {
        "execution": {
          "iopub.status.busy": "2023-09-25T07:24:11.663811Z",
          "iopub.execute_input": "2023-09-25T07:24:11.664354Z",
          "iopub.status.idle": "2023-09-25T07:24:11.674489Z",
          "shell.execute_reply.started": "2023-09-25T07:24:11.664304Z",
          "shell.execute_reply": "2023-09-25T07:24:11.673935Z"
        },
        "trusted": true,
        "id": "CFzFLKYGjTEA"
      },
      "execution_count": null,
      "outputs": []
    },
    {
      "cell_type": "code",
      "source": [
        "gnb = GaussianNB()\n",
        "gnb.fit(X_train, y_train)\n",
        "pred = gnb.predict(X_test)\n",
        "## accuracy\n",
        "accuracy = accuracy_score(y_test,pred)\n",
        "print(\"naive_bayes\")\n",
        "print(accuracy)\n",
        "print(classification_report(y_test,pred, labels=None))\n",
        "print(\"cohen kappa score\")\n",
        "print(cohen_kappa_score(y_test, pred))"
      ],
      "metadata": {
        "execution": {
          "iopub.status.busy": "2023-09-25T07:24:11.676034Z",
          "iopub.execute_input": "2023-09-25T07:24:11.676629Z",
          "iopub.status.idle": "2023-09-25T07:24:11.793159Z",
          "shell.execute_reply.started": "2023-09-25T07:24:11.676556Z",
          "shell.execute_reply": "2023-09-25T07:24:11.791891Z"
        },
        "trusted": true,
        "id": "yBXsRpl3jTEA"
      },
      "execution_count": null,
      "outputs": []
    },
    {
      "cell_type": "code",
      "source": [
        "# kneighbors algorithm\n",
        "\n",
        "for i in range(3,15,3):\n",
        "\n",
        "    neigh = KNeighborsClassifier(n_neighbors=i)\n",
        "    neigh.fit(X_train, y_train)\n",
        "    pred = neigh.predict(X_test)\n",
        "    # accuracy\n",
        "    accuracy = accuracy_score(pred, y_test)\n",
        "    print(\"kneighbors {}\".format(i))\n",
        "    print(accuracy)\n",
        "    print(classification_report(pred, y_test, labels=None))\n",
        "    print(\"cohen kappa score\")\n",
        "    print(cohen_kappa_score(y_test, pred))\n",
        "    print(\"\")"
      ],
      "metadata": {
        "execution": {
          "iopub.status.busy": "2023-09-25T07:24:11.79454Z",
          "iopub.execute_input": "2023-09-25T07:24:11.794823Z",
          "iopub.status.idle": "2023-09-25T07:24:12.787955Z",
          "shell.execute_reply.started": "2023-09-25T07:24:11.794776Z",
          "shell.execute_reply": "2023-09-25T07:24:12.787271Z"
        },
        "trusted": true,
        "id": "jeAAE4GWjTEA"
      },
      "execution_count": null,
      "outputs": []
    },
    {
      "cell_type": "code",
      "source": [
        "rdF=RandomForestClassifier(n_estimators=250, max_depth=50,random_state=45)\n",
        "rdF.fit(X_train,y_train)\n",
        "pred=rdF.predict(X_test)\n",
        "cm=confusion_matrix(y_test, pred)\n",
        "\n",
        "accuracy = accuracy_score(y_test,pred)\n",
        "print(rdF)\n",
        "print(accuracy)\n",
        "print(classification_report(y_test,pred, labels=None))\n",
        "print(\"cohen kappa score\")\n",
        "print(cohen_kappa_score(y_test, pred))\n",
        "print(cm)"
      ],
      "metadata": {
        "execution": {
          "iopub.status.busy": "2023-09-25T07:24:12.791636Z",
          "iopub.execute_input": "2023-09-25T07:24:12.791918Z",
          "iopub.status.idle": "2023-09-25T07:24:15.063964Z",
          "shell.execute_reply.started": "2023-09-25T07:24:12.791866Z",
          "shell.execute_reply": "2023-09-25T07:24:15.063019Z"
        },
        "trusted": true,
        "id": "mpLEeBhkjTEA"
      },
      "execution_count": null,
      "outputs": []
    }
  ]
}